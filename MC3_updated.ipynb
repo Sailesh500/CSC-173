{
 "cells": [
  {
   "cell_type": "code",
   "execution_count": 2,
   "id": "7729dbe8",
   "metadata": {},
   "outputs": [
    {
     "name": "stderr",
     "output_type": "stream",
     "text": [
      "IOPub data rate exceeded.\n",
      "The notebook server will temporarily stop sending output\n",
      "to the client in order to avoid crashing it.\n",
      "To change this limit, set the config variable\n",
      "`--NotebookApp.iopub_data_rate_limit`.\n",
      "\n",
      "Current values:\n",
      "NotebookApp.iopub_data_rate_limit=1000000.0 (bytes/sec)\n",
      "NotebookApp.rate_limit_window=3.0 (secs)\n",
      "\n"
     ]
    }
   ],
   "source": [
    "import json\n",
    "\n",
    "# Load the JSON data from the file\n",
    "with open('MC3.json', encoding='utf-8') as file:\n",
    "    data = json.load(file)\n",
    "\n",
    "# Initialize empty lists for keys and values\n",
    "keys = []\n",
    "values = []\n",
    "\n",
    "# Iterate over each dictionary in the 'nodes' list\n",
    "for dictionary in data['nodes']:\n",
    "    # Extract the keys and values from the dictionary\n",
    "    for key, value in dictionary.items():\n",
    "        keys.append(key)\n",
    "        values.append(value)\n",
    "\n",
    "# Print the lists of keys and values\n",
    "print(\"Keys:\", keys)\n",
    "print(\"Values:\", values)\n"
   ]
  },
  {
   "cell_type": "code",
   "execution_count": 2,
   "id": "780a2b5f",
   "metadata": {},
   "outputs": [
    {
     "name": "stdout",
     "output_type": "stream",
     "text": [
      "Unique Keys: {'product_services', 'country', 'revenue_omu', 'type', 'id'}\n"
     ]
    }
   ],
   "source": [
    "# Convert the 'keys' list to a set to get unique elements\n",
    "unique_keys = set(keys)\n",
    "\n",
    "# Print the unique keys\n",
    "print(\"Unique Keys:\", unique_keys)\n"
   ]
  },
  {
   "cell_type": "code",
   "execution_count": 3,
   "id": "65cf77e0",
   "metadata": {},
   "outputs": [
    {
     "name": "stdout",
     "output_type": "stream",
     "text": [
      "                   type                                            product  \\\n",
      "0               Company                                      [Automobiles]   \n",
      "1               Company          [Passenger cars, trucks, vans, and buses]   \n",
      "2               Company  [Holding firm whose subsidiaries are engaged i...   \n",
      "3               Company  [Car service, car parts and accessories, autom...   \n",
      "4               Company  [Fully electric vehicles (EVs) and electric ve...   \n",
      "...                 ...                                                ...   \n",
      "27617  Company Contacts                                                 []   \n",
      "27618  Company Contacts                                                 []   \n",
      "27619  Company Contacts                                                 []   \n",
      "27620  Company Contacts                                                 []   \n",
      "27621  Company Contacts                                                 []   \n",
      "\n",
      "          country         revenue                                    id  \n",
      "0              ZH   310612303.447                             Jones LLC  \n",
      "1              ZH  162734683.9969               Coleman, Hall and Lopez  \n",
      "2         Oceanus  115004666.6728  Aqua Advancements Sashimi SE Express  \n",
      "3      Utoporiana   90986412.5191             Makumba Ltd. Liability Co  \n",
      "4              ZH   81466666.6728            Taylor, Taylor and Farrell  \n",
      "...           ...             ...                                   ...  \n",
      "27617          ZH                            Johnson, Lee and Rodriguez  \n",
      "27618          ZH                           Bowman, Rollins and Griffin  \n",
      "27619          ZH                                          Hardin Group  \n",
      "27620          ZH                             Crane, Joyce and Jennings  \n",
      "27621          ZH                                        Smith and Sons  \n",
      "\n",
      "[27622 rows x 5 columns]\n"
     ]
    }
   ],
   "source": [
    "import pandas as pd\n",
    "import json\n",
    "\n",
    "# Load the JSON data from the file\n",
    "with open('MC3.json', encoding='utf-8') as file:\n",
    "    data = json.load(file)\n",
    "\n",
    "# Initialize an empty list to store the data rows\n",
    "rows = []\n",
    "\n",
    "# Iterate over each dictionary in the 'nodes' list\n",
    "for dictionary in data['nodes']:\n",
    "    # Extract the values for 'type', 'dataset', 'country', 'id' keys\n",
    "    type_value = dictionary.get('type', ' ')[0]\n",
    "    product_value = dictionary.get('product_services', ' ')\n",
    "  #  product_value = product_value.strip('[]').split(',')[0].strip()\n",
    "    country_value = dictionary.get('country', ' ')[0]\n",
    "    revenue_omu_value = dictionary.get('revenue_omu', ' ')[0]\n",
    "    id_value = dictionary.get('id', ' ')[0]\n",
    "\n",
    "    # Append the values as a new row to the list\n",
    "    rows.append([type_value,product_value, country_value,revenue_omu_value, id_value])\n",
    "\n",
    "# Create a DataFrame with the specified columns and filled data\n",
    "df = pd.DataFrame(rows, columns=['type', 'product', 'country','revenue', 'id'])\n",
    "\n",
    "# Print the DataFrame\n",
    "print(df)\n"
   ]
  },
  {
   "cell_type": "code",
   "execution_count": null,
   "id": "0d298333",
   "metadata": {},
   "outputs": [],
   "source": []
  },
  {
   "cell_type": "code",
   "execution_count": 4,
   "id": "7d39f5db",
   "metadata": {},
   "outputs": [],
   "source": [
    "df.to_csv(\"dataset.csv\")"
   ]
  },
  {
   "cell_type": "code",
   "execution_count": 5,
   "id": "33e24c3a",
   "metadata": {},
   "outputs": [],
   "source": [
    "#understanding the data"
   ]
  },
  {
   "cell_type": "code",
   "execution_count": 6,
   "id": "c4d186ce",
   "metadata": {},
   "outputs": [
    {
     "name": "stdout",
     "output_type": "stream",
     "text": [
      "<class 'pandas.core.frame.DataFrame'>\n",
      "RangeIndex: 27622 entries, 0 to 27621\n",
      "Data columns (total 5 columns):\n",
      " #   Column   Non-Null Count  Dtype \n",
      "---  ------   --------------  ----- \n",
      " 0   type     27622 non-null  object\n",
      " 1   product  27622 non-null  object\n",
      " 2   country  27622 non-null  object\n",
      " 3   revenue  27622 non-null  object\n",
      " 4   id       27622 non-null  object\n",
      "dtypes: object(5)\n",
      "memory usage: 1.1+ MB\n"
     ]
    }
   ],
   "source": [
    "df.info()"
   ]
  },
  {
   "cell_type": "code",
   "execution_count": 7,
   "id": "77aab148",
   "metadata": {},
   "outputs": [
    {
     "data": {
      "text/html": [
       "<div>\n",
       "<style scoped>\n",
       "    .dataframe tbody tr th:only-of-type {\n",
       "        vertical-align: middle;\n",
       "    }\n",
       "\n",
       "    .dataframe tbody tr th {\n",
       "        vertical-align: top;\n",
       "    }\n",
       "\n",
       "    .dataframe thead th {\n",
       "        text-align: right;\n",
       "    }\n",
       "</style>\n",
       "<table border=\"1\" class=\"dataframe\">\n",
       "  <thead>\n",
       "    <tr style=\"text-align: right;\">\n",
       "      <th></th>\n",
       "      <th>type</th>\n",
       "      <th>product</th>\n",
       "      <th>country</th>\n",
       "      <th>revenue</th>\n",
       "      <th>id</th>\n",
       "    </tr>\n",
       "  </thead>\n",
       "  <tbody>\n",
       "    <tr>\n",
       "      <th>count</th>\n",
       "      <td>27622</td>\n",
       "      <td>27622</td>\n",
       "      <td>27622</td>\n",
       "      <td>27622</td>\n",
       "      <td>27622</td>\n",
       "    </tr>\n",
       "    <tr>\n",
       "      <th>unique</th>\n",
       "      <td>3</td>\n",
       "      <td>3244</td>\n",
       "      <td>100</td>\n",
       "      <td>4639</td>\n",
       "      <td>22929</td>\n",
       "    </tr>\n",
       "    <tr>\n",
       "      <th>top</th>\n",
       "      <td>Beneficial Owner</td>\n",
       "      <td>[]</td>\n",
       "      <td>ZH</td>\n",
       "      <td></td>\n",
       "      <td>Smith LLC</td>\n",
       "    </tr>\n",
       "    <tr>\n",
       "      <th>freq</th>\n",
       "      <td>11949</td>\n",
       "      <td>18959</td>\n",
       "      <td>22439</td>\n",
       "      <td>18959</td>\n",
       "      <td>40</td>\n",
       "    </tr>\n",
       "  </tbody>\n",
       "</table>\n",
       "</div>"
      ],
      "text/plain": [
       "                    type product country revenue         id\n",
       "count              27622   27622   27622   27622      27622\n",
       "unique                 3    3244     100    4639      22929\n",
       "top     Beneficial Owner      []      ZH          Smith LLC\n",
       "freq               11949   18959   22439   18959         40"
      ]
     },
     "execution_count": 7,
     "metadata": {},
     "output_type": "execute_result"
    }
   ],
   "source": [
    "df.describe()"
   ]
  },
  {
   "cell_type": "code",
   "execution_count": 8,
   "id": "6c33de9b",
   "metadata": {},
   "outputs": [
    {
     "data": {
      "text/plain": [
       "type       0\n",
       "product    0\n",
       "country    0\n",
       "revenue    0\n",
       "id         0\n",
       "dtype: int64"
      ]
     },
     "execution_count": 8,
     "metadata": {},
     "output_type": "execute_result"
    }
   ],
   "source": [
    "df.isnull().sum()"
   ]
  },
  {
   "cell_type": "code",
   "execution_count": 9,
   "id": "15bdcd1c",
   "metadata": {},
   "outputs": [],
   "source": [
    "unique_values = df[\"revenue\"].unique()\n"
   ]
  },
  {
   "cell_type": "code",
   "execution_count": 10,
   "id": "0b62ce31",
   "metadata": {},
   "outputs": [
    {
     "data": {
      "text/plain": [
       "array([310612303.447, 162734683.9969, 115004666.6728, ..., 131680733.227,\n",
       "       142196552.227, ' '], dtype=object)"
      ]
     },
     "execution_count": 10,
     "metadata": {},
     "output_type": "execute_result"
    }
   ],
   "source": [
    "unique_values"
   ]
  },
  {
   "cell_type": "code",
   "execution_count": 11,
   "id": "6704741e",
   "metadata": {},
   "outputs": [
    {
     "name": "stdout",
     "output_type": "stream",
     "text": [
      "type           0\n",
      "product        0\n",
      "country        0\n",
      "revenue    18959\n",
      "id             0\n",
      "dtype: int64\n"
     ]
    }
   ],
   "source": [
    "import pandas as pd\n",
    "\n",
    "# Replace empty strings with null values in the DataFrame\n",
    "df.replace(' ', pd.NA, inplace=True)\n",
    "\n",
    "# Check for null values\n",
    "print(df.isnull().sum())"
   ]
  },
  {
   "cell_type": "code",
   "execution_count": 12,
   "id": "b53b53c7",
   "metadata": {},
   "outputs": [],
   "source": [
    "import pandas as pd\n",
    "\n",
    "# Convert non-numeric values to NaN\n",
    "df[\"revenue\"] = pd.to_numeric(df[\"revenue\"], errors=\"coerce\")\n",
    "\n",
    "# Calculate the mean  or average\n",
    "#mean_revenue = df[\"revenue\"].mean()\n",
    "\n",
    "# Fill missing values with the mean\n",
    "#df[\"revenue\"].fillna(mean_revenue, inplace=True)\n",
    "df = df.dropna(subset=['revenue'], axis=0)\n",
    "#df[\"revenue\"].dropna(axis=1)"
   ]
  },
  {
   "cell_type": "code",
   "execution_count": null,
   "id": "88d78d3b",
   "metadata": {},
   "outputs": [],
   "source": []
  },
  {
   "cell_type": "code",
   "execution_count": 13,
   "id": "65590f91",
   "metadata": {},
   "outputs": [
    {
     "data": {
      "text/plain": [
       "type       0\n",
       "product    0\n",
       "country    0\n",
       "revenue    0\n",
       "id         0\n",
       "dtype: int64"
      ]
     },
     "execution_count": 13,
     "metadata": {},
     "output_type": "execute_result"
    }
   ],
   "source": [
    "df.isnull().sum()\n"
   ]
  },
  {
   "cell_type": "code",
   "execution_count": 14,
   "id": "468dd256",
   "metadata": {},
   "outputs": [
    {
     "name": "stdout",
     "output_type": "stream",
     "text": [
      "<class 'pandas.core.frame.DataFrame'>\n",
      "Int64Index: 6107 entries, 0 to 8662\n",
      "Data columns (total 5 columns):\n",
      " #   Column   Non-Null Count  Dtype  \n",
      "---  ------   --------------  -----  \n",
      " 0   type     6107 non-null   object \n",
      " 1   product  6107 non-null   object \n",
      " 2   country  6107 non-null   object \n",
      " 3   revenue  6107 non-null   float64\n",
      " 4   id       6107 non-null   object \n",
      "dtypes: float64(1), object(4)\n",
      "memory usage: 286.3+ KB\n"
     ]
    }
   ],
   "source": [
    "df.info()\n"
   ]
  },
  {
   "cell_type": "code",
   "execution_count": 15,
   "id": "24fdcf08",
   "metadata": {},
   "outputs": [
    {
     "data": {
      "text/html": [
       "<div>\n",
       "<style scoped>\n",
       "    .dataframe tbody tr th:only-of-type {\n",
       "        vertical-align: middle;\n",
       "    }\n",
       "\n",
       "    .dataframe tbody tr th {\n",
       "        vertical-align: top;\n",
       "    }\n",
       "\n",
       "    .dataframe thead th {\n",
       "        text-align: right;\n",
       "    }\n",
       "</style>\n",
       "<table border=\"1\" class=\"dataframe\">\n",
       "  <thead>\n",
       "    <tr style=\"text-align: right;\">\n",
       "      <th></th>\n",
       "      <th>type</th>\n",
       "      <th>product</th>\n",
       "      <th>country</th>\n",
       "      <th>revenue</th>\n",
       "      <th>id</th>\n",
       "    </tr>\n",
       "  </thead>\n",
       "  <tbody>\n",
       "    <tr>\n",
       "      <th>0</th>\n",
       "      <td>Company</td>\n",
       "      <td>[Automobiles]</td>\n",
       "      <td>ZH</td>\n",
       "      <td>3.106123e+08</td>\n",
       "      <td>Jones LLC</td>\n",
       "    </tr>\n",
       "    <tr>\n",
       "      <th>1</th>\n",
       "      <td>Company</td>\n",
       "      <td>[Passenger cars, trucks, vans, and buses]</td>\n",
       "      <td>ZH</td>\n",
       "      <td>1.627347e+08</td>\n",
       "      <td>Coleman, Hall and Lopez</td>\n",
       "    </tr>\n",
       "    <tr>\n",
       "      <th>2</th>\n",
       "      <td>Company</td>\n",
       "      <td>[Holding firm whose subsidiaries are engaged i...</td>\n",
       "      <td>Oceanus</td>\n",
       "      <td>1.150047e+08</td>\n",
       "      <td>Aqua Advancements Sashimi SE Express</td>\n",
       "    </tr>\n",
       "    <tr>\n",
       "      <th>3</th>\n",
       "      <td>Company</td>\n",
       "      <td>[Car service, car parts and accessories, autom...</td>\n",
       "      <td>Utoporiana</td>\n",
       "      <td>9.098641e+07</td>\n",
       "      <td>Makumba Ltd. Liability Co</td>\n",
       "    </tr>\n",
       "    <tr>\n",
       "      <th>4</th>\n",
       "      <td>Company</td>\n",
       "      <td>[Fully electric vehicles (EVs) and electric ve...</td>\n",
       "      <td>ZH</td>\n",
       "      <td>8.146667e+07</td>\n",
       "      <td>Taylor, Taylor and Farrell</td>\n",
       "    </tr>\n",
       "  </tbody>\n",
       "</table>\n",
       "</div>"
      ],
      "text/plain": [
       "      type                                            product     country  \\\n",
       "0  Company                                      [Automobiles]          ZH   \n",
       "1  Company          [Passenger cars, trucks, vans, and buses]          ZH   \n",
       "2  Company  [Holding firm whose subsidiaries are engaged i...     Oceanus   \n",
       "3  Company  [Car service, car parts and accessories, autom...  Utoporiana   \n",
       "4  Company  [Fully electric vehicles (EVs) and electric ve...          ZH   \n",
       "\n",
       "        revenue                                    id  \n",
       "0  3.106123e+08                             Jones LLC  \n",
       "1  1.627347e+08               Coleman, Hall and Lopez  \n",
       "2  1.150047e+08  Aqua Advancements Sashimi SE Express  \n",
       "3  9.098641e+07             Makumba Ltd. Liability Co  \n",
       "4  8.146667e+07            Taylor, Taylor and Farrell  "
      ]
     },
     "execution_count": 15,
     "metadata": {},
     "output_type": "execute_result"
    }
   ],
   "source": [
    "df.head()"
   ]
  },
  {
   "cell_type": "code",
   "execution_count": 16,
   "id": "3b80d5be",
   "metadata": {},
   "outputs": [
    {
     "data": {
      "image/png": "[encoded data removed]",
      "text/plain": [
       "<Figure size 432x288 with 1 Axes>"
      ]
     },
     "metadata": {
      "needs_background": "light"
     },
     "output_type": "display_data"
    }
   ],
   "source": [
    "import matplotlib.pyplot as plt\n",
    "\n",
    "df[\"revenue\"].plot.box()\n",
    "plt.ylabel(\"Revenue\")\n",
    "plt.title(\"Boxplot of Revenue\")\n",
    "plt.show()\n"
   ]
  },
  {
   "cell_type": "code",
   "execution_count": 17,
   "id": "13d5f4f0",
   "metadata": {},
   "outputs": [],
   "source": [
    "Q1 = df[\"revenue\"].quantile(0.25)\n",
    "Q3 = df[\"revenue\"].quantile(0.75)\n"
   ]
  },
  {
   "cell_type": "code",
   "execution_count": 18,
   "id": "8257b1ee",
   "metadata": {},
   "outputs": [],
   "source": [
    "IQR = Q3 - Q1\n"
   ]
  },
  {
   "cell_type": "code",
   "execution_count": 19,
   "id": "5fd151c0",
   "metadata": {},
   "outputs": [
    {
     "data": {
      "text/plain": [
       "(48327.661550000004, 7676.35915)"
      ]
     },
     "execution_count": 19,
     "metadata": {},
     "output_type": "execute_result"
    }
   ],
   "source": [
    "Q3,Q1"
   ]
  },
  {
   "cell_type": "code",
   "execution_count": 20,
   "id": "40213e30",
   "metadata": {},
   "outputs": [],
   "source": [
    "lower_bound = Q1 - (1.5 * IQR)\n",
    "upper_bound = Q3 + (1.5 * IQR)\n",
    "\n"
   ]
  },
  {
   "cell_type": "code",
   "execution_count": 21,
   "id": "27c838b4",
   "metadata": {},
   "outputs": [],
   "source": [
    "df_filtered = df[(df[\"revenue\"] >= lower_bound) & (df[\"revenue\"] <= upper_bound)]\n"
   ]
  },
  {
   "cell_type": "code",
   "execution_count": 22,
   "id": "99bf29c1",
   "metadata": {},
   "outputs": [],
   "source": [
    "Q1 = df[\"revenue\"].quantile(0.25)\n",
    "Q3 = df[\"revenue\"].quantile(0.65)\n",
    "IQR = Q3 - Q1\n",
    "lower_bound = Q1 - (1.5 * IQR)\n",
    "upper_bound = Q3 + (1.5 * IQR)\n",
    "df_filtered = df[(df[\"revenue\"] >= lower_bound) & (df[\"revenue\"] <= upper_bound)]\n"
   ]
  },
  {
   "cell_type": "code",
   "execution_count": 23,
   "id": "4e397d78",
   "metadata": {},
   "outputs": [
    {
     "data": {
      "text/html": [
       "<div>\n",
       "<style scoped>\n",
       "    .dataframe tbody tr th:only-of-type {\n",
       "        vertical-align: middle;\n",
       "    }\n",
       "\n",
       "    .dataframe tbody tr th {\n",
       "        vertical-align: top;\n",
       "    }\n",
       "\n",
       "    .dataframe thead th {\n",
       "        text-align: right;\n",
       "    }\n",
       "</style>\n",
       "<table border=\"1\" class=\"dataframe\">\n",
       "  <thead>\n",
       "    <tr style=\"text-align: right;\">\n",
       "      <th></th>\n",
       "      <th>type</th>\n",
       "      <th>product</th>\n",
       "      <th>country</th>\n",
       "      <th>revenue</th>\n",
       "      <th>id</th>\n",
       "    </tr>\n",
       "  </thead>\n",
       "  <tbody>\n",
       "    <tr>\n",
       "      <th>1259</th>\n",
       "      <td>Company</td>\n",
       "      <td>[Commercial fishing equipment]</td>\n",
       "      <td>ZH</td>\n",
       "      <td>59764.8570</td>\n",
       "      <td>Morales PLC</td>\n",
       "    </tr>\n",
       "    <tr>\n",
       "      <th>1260</th>\n",
       "      <td>Company</td>\n",
       "      <td>[Prawns, squids, and octopus; Refrigerated smo...</td>\n",
       "      <td>Nalakond</td>\n",
       "      <td>59682.0101</td>\n",
       "      <td>Sea Breezes Sagl Seaside</td>\n",
       "    </tr>\n",
       "    <tr>\n",
       "      <th>1261</th>\n",
       "      <td>Company</td>\n",
       "      <td>[Luxury vinyl flooring, premium laminate and a...</td>\n",
       "      <td>ZH</td>\n",
       "      <td>59666.6728</td>\n",
       "      <td>Walker-Richardson</td>\n",
       "    </tr>\n",
       "    <tr>\n",
       "      <th>1262</th>\n",
       "      <td>Company</td>\n",
       "      <td>[Clothing and footwear products]</td>\n",
       "      <td>ZH</td>\n",
       "      <td>59666.6728</td>\n",
       "      <td>Payne, Freeman and Kim</td>\n",
       "    </tr>\n",
       "    <tr>\n",
       "      <th>1263</th>\n",
       "      <td>Company</td>\n",
       "      <td>[Consumer adhesives and craftsman adhesives]</td>\n",
       "      <td>ZH</td>\n",
       "      <td>59639.9498</td>\n",
       "      <td>Mcmillan, Brock and Carroll</td>\n",
       "    </tr>\n",
       "    <tr>\n",
       "      <th>...</th>\n",
       "      <td>...</td>\n",
       "      <td>...</td>\n",
       "      <td>...</td>\n",
       "      <td>...</td>\n",
       "      <td>...</td>\n",
       "    </tr>\n",
       "    <tr>\n",
       "      <th>6046</th>\n",
       "      <td>Company</td>\n",
       "      <td>[Management and consultancy services]</td>\n",
       "      <td>Oceanus</td>\n",
       "      <td>4666.6728</td>\n",
       "      <td>Gujarat Sea  Plc United</td>\n",
       "    </tr>\n",
       "    <tr>\n",
       "      <th>6047</th>\n",
       "      <td>Company</td>\n",
       "      <td>[Unknown]</td>\n",
       "      <td>ZH</td>\n",
       "      <td>4666.6728</td>\n",
       "      <td>Li, Hudson and Mclean</td>\n",
       "    </tr>\n",
       "    <tr>\n",
       "      <th>6048</th>\n",
       "      <td>Company</td>\n",
       "      <td>[Unknown]</td>\n",
       "      <td>ZH</td>\n",
       "      <td>4660.6650</td>\n",
       "      <td>Boyer, Tucker and Diaz</td>\n",
       "    </tr>\n",
       "    <tr>\n",
       "      <th>6049</th>\n",
       "      <td>Company</td>\n",
       "      <td>[Unknown]</td>\n",
       "      <td>Marebak</td>\n",
       "      <td>4657.7974</td>\n",
       "      <td>Bu yu wang Pic Export</td>\n",
       "    </tr>\n",
       "    <tr>\n",
       "      <th>6050</th>\n",
       "      <td>Company</td>\n",
       "      <td>[General merchandise and other related consume...</td>\n",
       "      <td>Marebak</td>\n",
       "      <td>3652.2266</td>\n",
       "      <td>Costa de Coral Pic Services</td>\n",
       "    </tr>\n",
       "  </tbody>\n",
       "</table>\n",
       "<p>4792 rows × 5 columns</p>\n",
       "</div>"
      ],
      "text/plain": [
       "         type                                            product   country  \\\n",
       "1259  Company                     [Commercial fishing equipment]        ZH   \n",
       "1260  Company  [Prawns, squids, and octopus; Refrigerated smo...  Nalakond   \n",
       "1261  Company  [Luxury vinyl flooring, premium laminate and a...        ZH   \n",
       "1262  Company                   [Clothing and footwear products]        ZH   \n",
       "1263  Company       [Consumer adhesives and craftsman adhesives]        ZH   \n",
       "...       ...                                                ...       ...   \n",
       "6046  Company              [Management and consultancy services]   Oceanus   \n",
       "6047  Company                                          [Unknown]        ZH   \n",
       "6048  Company                                          [Unknown]        ZH   \n",
       "6049  Company                                          [Unknown]   Marebak   \n",
       "6050  Company  [General merchandise and other related consume...   Marebak   \n",
       "\n",
       "         revenue                           id  \n",
       "1259  59764.8570                  Morales PLC  \n",
       "1260  59682.0101     Sea Breezes Sagl Seaside  \n",
       "1261  59666.6728            Walker-Richardson  \n",
       "1262  59666.6728       Payne, Freeman and Kim  \n",
       "1263  59639.9498  Mcmillan, Brock and Carroll  \n",
       "...          ...                          ...  \n",
       "6046   4666.6728      Gujarat Sea  Plc United  \n",
       "6047   4666.6728        Li, Hudson and Mclean  \n",
       "6048   4660.6650       Boyer, Tucker and Diaz  \n",
       "6049   4657.7974        Bu yu wang Pic Export  \n",
       "6050   3652.2266  Costa de Coral Pic Services  \n",
       "\n",
       "[4792 rows x 5 columns]"
      ]
     },
     "execution_count": 23,
     "metadata": {},
     "output_type": "execute_result"
    }
   ],
   "source": [
    "df_filtered"
   ]
  },
  {
   "cell_type": "code",
   "execution_count": 24,
   "id": "3d4151f0",
   "metadata": {},
   "outputs": [
    {
     "data": {
      "image/png": "[encoded data removed]",
      "text/plain": [
       "<Figure size 432x288 with 1 Axes>"
      ]
     },
     "metadata": {
      "needs_background": "light"
     },
     "output_type": "display_data"
    }
   ],
   "source": [
    "import matplotlib.pyplot as plt\n",
    "\n",
    "df_filtered[\"revenue\"].plot.box()\n",
    "plt.ylabel(\"Revenue\")\n",
    "plt.title(\"Boxplot of Revenue\")\n",
    "plt.show()\n"
   ]
  },
  {
   "cell_type": "code",
   "execution_count": 25,
   "id": "8be07668",
   "metadata": {},
   "outputs": [
    {
     "data": {
      "text/html": [
       "<div>\n",
       "<style scoped>\n",
       "    .dataframe tbody tr th:only-of-type {\n",
       "        vertical-align: middle;\n",
       "    }\n",
       "\n",
       "    .dataframe tbody tr th {\n",
       "        vertical-align: top;\n",
       "    }\n",
       "\n",
       "    .dataframe thead th {\n",
       "        text-align: right;\n",
       "    }\n",
       "</style>\n",
       "<table border=\"1\" class=\"dataframe\">\n",
       "  <thead>\n",
       "    <tr style=\"text-align: right;\">\n",
       "      <th></th>\n",
       "      <th>type</th>\n",
       "      <th>product</th>\n",
       "      <th>country</th>\n",
       "      <th>revenue</th>\n",
       "      <th>id</th>\n",
       "    </tr>\n",
       "  </thead>\n",
       "  <tbody>\n",
       "    <tr>\n",
       "      <th>1259</th>\n",
       "      <td>Company</td>\n",
       "      <td>[Commercial fishing equipment]</td>\n",
       "      <td>ZH</td>\n",
       "      <td>59764.8570</td>\n",
       "      <td>Morales PLC</td>\n",
       "    </tr>\n",
       "    <tr>\n",
       "      <th>1260</th>\n",
       "      <td>Company</td>\n",
       "      <td>[Prawns, squids, and octopus; Refrigerated smo...</td>\n",
       "      <td>Nalakond</td>\n",
       "      <td>59682.0101</td>\n",
       "      <td>Sea Breezes Sagl Seaside</td>\n",
       "    </tr>\n",
       "    <tr>\n",
       "      <th>1261</th>\n",
       "      <td>Company</td>\n",
       "      <td>[Luxury vinyl flooring, premium laminate and a...</td>\n",
       "      <td>ZH</td>\n",
       "      <td>59666.6728</td>\n",
       "      <td>Walker-Richardson</td>\n",
       "    </tr>\n",
       "    <tr>\n",
       "      <th>1262</th>\n",
       "      <td>Company</td>\n",
       "      <td>[Clothing and footwear products]</td>\n",
       "      <td>ZH</td>\n",
       "      <td>59666.6728</td>\n",
       "      <td>Payne, Freeman and Kim</td>\n",
       "    </tr>\n",
       "    <tr>\n",
       "      <th>1263</th>\n",
       "      <td>Company</td>\n",
       "      <td>[Consumer adhesives and craftsman adhesives]</td>\n",
       "      <td>ZH</td>\n",
       "      <td>59639.9498</td>\n",
       "      <td>Mcmillan, Brock and Carroll</td>\n",
       "    </tr>\n",
       "    <tr>\n",
       "      <th>...</th>\n",
       "      <td>...</td>\n",
       "      <td>...</td>\n",
       "      <td>...</td>\n",
       "      <td>...</td>\n",
       "      <td>...</td>\n",
       "    </tr>\n",
       "    <tr>\n",
       "      <th>6046</th>\n",
       "      <td>Company</td>\n",
       "      <td>[Management and consultancy services]</td>\n",
       "      <td>Oceanus</td>\n",
       "      <td>4666.6728</td>\n",
       "      <td>Gujarat Sea  Plc United</td>\n",
       "    </tr>\n",
       "    <tr>\n",
       "      <th>6047</th>\n",
       "      <td>Company</td>\n",
       "      <td>[Unknown]</td>\n",
       "      <td>ZH</td>\n",
       "      <td>4666.6728</td>\n",
       "      <td>Li, Hudson and Mclean</td>\n",
       "    </tr>\n",
       "    <tr>\n",
       "      <th>6048</th>\n",
       "      <td>Company</td>\n",
       "      <td>[Unknown]</td>\n",
       "      <td>ZH</td>\n",
       "      <td>4660.6650</td>\n",
       "      <td>Boyer, Tucker and Diaz</td>\n",
       "    </tr>\n",
       "    <tr>\n",
       "      <th>6049</th>\n",
       "      <td>Company</td>\n",
       "      <td>[Unknown]</td>\n",
       "      <td>Marebak</td>\n",
       "      <td>4657.7974</td>\n",
       "      <td>Bu yu wang Pic Export</td>\n",
       "    </tr>\n",
       "    <tr>\n",
       "      <th>6050</th>\n",
       "      <td>Company</td>\n",
       "      <td>[General merchandise and other related consume...</td>\n",
       "      <td>Marebak</td>\n",
       "      <td>3652.2266</td>\n",
       "      <td>Costa de Coral Pic Services</td>\n",
       "    </tr>\n",
       "  </tbody>\n",
       "</table>\n",
       "<p>4792 rows × 5 columns</p>\n",
       "</div>"
      ],
      "text/plain": [
       "         type                                            product   country  \\\n",
       "1259  Company                     [Commercial fishing equipment]        ZH   \n",
       "1260  Company  [Prawns, squids, and octopus; Refrigerated smo...  Nalakond   \n",
       "1261  Company  [Luxury vinyl flooring, premium laminate and a...        ZH   \n",
       "1262  Company                   [Clothing and footwear products]        ZH   \n",
       "1263  Company       [Consumer adhesives and craftsman adhesives]        ZH   \n",
       "...       ...                                                ...       ...   \n",
       "6046  Company              [Management and consultancy services]   Oceanus   \n",
       "6047  Company                                          [Unknown]        ZH   \n",
       "6048  Company                                          [Unknown]        ZH   \n",
       "6049  Company                                          [Unknown]   Marebak   \n",
       "6050  Company  [General merchandise and other related consume...   Marebak   \n",
       "\n",
       "         revenue                           id  \n",
       "1259  59764.8570                  Morales PLC  \n",
       "1260  59682.0101     Sea Breezes Sagl Seaside  \n",
       "1261  59666.6728            Walker-Richardson  \n",
       "1262  59666.6728       Payne, Freeman and Kim  \n",
       "1263  59639.9498  Mcmillan, Brock and Carroll  \n",
       "...          ...                          ...  \n",
       "6046   4666.6728      Gujarat Sea  Plc United  \n",
       "6047   4666.6728        Li, Hudson and Mclean  \n",
       "6048   4660.6650       Boyer, Tucker and Diaz  \n",
       "6049   4657.7974        Bu yu wang Pic Export  \n",
       "6050   3652.2266  Costa de Coral Pic Services  \n",
       "\n",
       "[4792 rows x 5 columns]"
      ]
     },
     "execution_count": 25,
     "metadata": {},
     "output_type": "execute_result"
    }
   ],
   "source": [
    "df_filtered"
   ]
  },
  {
   "cell_type": "code",
   "execution_count": 26,
   "id": "39e01f8a",
   "metadata": {},
   "outputs": [],
   "source": [
    "import pandas as pd\n",
    "import matplotlib.pyplot as plt"
   ]
  },
  {
   "cell_type": "code",
   "execution_count": 27,
   "id": "c12dd857",
   "metadata": {},
   "outputs": [
    {
     "data": {
      "image/png": "[encoded data removed]",
      "text/plain": [
       "<Figure size 432x288 with 1 Axes>"
      ]
     },
     "metadata": {},
     "output_type": "display_data"
    }
   ],
   "source": [
    "# Count the occurrences of each unique value in the 'type' column\n",
    "type_counts =df_filtered['type'].value_counts()\n",
    "\n",
    "# Plot the pie chart\n",
    "type_counts.plot.pie(autopct='%1.1f%%', startangle=90)\n",
    "\n",
    "# Set aspect ratio to be equal so that pie is drawn as a circle\n",
    "plt.axis('equal')\n",
    "\n",
    "# Add a title\n",
    "plt.title('Distribution of Types')\n",
    "\n",
    "# Display the chart\n",
    "plt.show()"
   ]
  },
  {
   "cell_type": "code",
   "execution_count": 28,
   "id": "14147200",
   "metadata": {},
   "outputs": [
    {
     "data": {
      "text/plain": [
       "array(['ZH', 'Oceanus', 'Utoporiana', 'Riodelsol', 'Rio Isla',\n",
       "       'Coralmarica', 'Isliandor', 'Osterivaria', 'Kondanovia',\n",
       "       'Alverovia', 'Galduzim', 'Gavanovia', 'Puerto Sol', 'Marebak',\n",
       "       'Sol y Oceana', 'Rosvandor', 'Puerto del Mar', 'Azurionix',\n",
       "       'Merigrad', 'Lumindoria', 'Alverossia', 'Faraluna', 'Zawalinda',\n",
       "       'Coral Solis', 'Vesperanda', 'Icarnia', 'Helixia', 'Talandria',\n",
       "       'Nalakond', 'Korvelonia', 'Thessalandia', 'Solovarossa',\n",
       "       'Jiraputra', 'Playa Solis', 'Marifada', 'Brindivaria', 'Andenovia',\n",
       "       'Arreciviento', 'Mawazam', 'Brindisola', 'Mango del Oro',\n",
       "       'Coralada', 'Ariuzima', 'Chrysazul', 'Mawandia', 'Osterivaro',\n",
       "       'Utoparadia', 'Arvaros', 'Nalaloria', 'Uzifrica', 'Imazam',\n",
       "       'Novarcticaa', 'Mawalara', 'Afarivaria', 'Yggdrasonia', 'Uziland',\n",
       "       'Polarisdom', 'Luminkind', 'Kondarica', 'Quornova', 'Baziuzim',\n",
       "       'Lumakari', 'Oceanterra', 'Portovia', 'Kondarivakia', 'Vientoro',\n",
       "       'Wysterion', 'Morolaria', 'Novarctica', 'Rivenisla', 'Rio Solovia'],\n",
       "      dtype=object)"
      ]
     },
     "execution_count": 28,
     "metadata": {},
     "output_type": "execute_result"
    }
   ],
   "source": [
    "unique_values_country = df[\"country\"].unique()\n",
    "unique_values_country"
   ]
  },
  {
   "cell_type": "code",
   "execution_count": 29,
   "id": "73142b79",
   "metadata": {},
   "outputs": [
    {
     "data": {
      "image/png": "[encoded data removed]",
      "text/plain": [
       "<Figure size 432x288 with 1 Axes>"
      ]
     },
     "metadata": {},
     "output_type": "display_data"
    }
   ],
   "source": [
    "# Count the occurrences of each unique value in the 'type' column\n",
    "type_counts =df_filtered['country'].value_counts()\n",
    "\n",
    "# Plot the pie chart\n",
    "type_counts.plot.pie(autopct='%1.1f%%', startangle=90)\n",
    "\n",
    "# Set aspect ratio to be equal so that pie is drawn as a circle\n",
    "plt.axis('equal')\n",
    "\n",
    "# Add a title\n",
    "plt.title('Distribution of Types')\n",
    "\n",
    "# Display the chart\n",
    "plt.show()"
   ]
  },
  {
   "cell_type": "code",
   "execution_count": 30,
   "id": "eb0208e6",
   "metadata": {},
   "outputs": [
    {
     "name": "stdout",
     "output_type": "stream",
     "text": [
      "            revenue\n",
      "count   4792.000000\n",
      "mean   16661.397626\n",
      "std    13251.029813\n",
      "min     3652.226600\n",
      "25%     6560.318700\n",
      "50%    11755.947800\n",
      "75%    22000.744700\n",
      "max    59764.857000\n"
     ]
    },
    {
     "data": {
      "image/png": "[encoded data removed]",
      "text/plain": [
       "<Figure size 432x288 with 1 Axes>"
      ]
     },
     "metadata": {
      "needs_background": "light"
     },
     "output_type": "display_data"
    }
   ],
   "source": [
    "# Compute summary statistics\n",
    "import seaborn as sns\n",
    "summary = df_filtered.describe()\n",
    "\n",
    "# Plot using Seaborn\n",
    "sns.boxplot(data=df_filtered)\n",
    "sns.despine()\n",
    "\n",
    "# Display the summary statistics\n",
    "print(summary)"
   ]
  },
  {
   "cell_type": "code",
   "execution_count": 31,
   "id": "750a4cf1",
   "metadata": {},
   "outputs": [
    {
     "data": {
      "image/png": "[encoded data removed]",
      "text/plain": [
       "<Figure size 720x432 with 1 Axes>"
      ]
     },
     "metadata": {
      "needs_background": "light"
     },
     "output_type": "display_data"
    }
   ],
   "source": [
    "# Calculate the total revenue for each country\n",
    "country_revenue =df_filtered.groupby('country')['revenue'].sum().reset_index()\n",
    "\n",
    "# Set the figure size\n",
    "plt.figure(figsize=(10, 6))  # Adjust the figure size as per your requirements\n",
    "\n",
    "# Plot the bar graph\n",
    "ax = sns.barplot(data=country_revenue, x='country', y='revenue')\n",
    "ax.set_xticklabels(ax.get_xticklabels(), rotation=90)  # Rotate x-axis labels by 90 degrees\n",
    "\n",
    "# Customize x-axis tick marks\n",
    "plt.xticks(range(len(country_revenue)), country_revenue['country'])  # Set x-axis tick positions and labels\n",
    "plt.gca().xaxis.grid(True, linestyle='--')  # Add gridlines between x-ticks\n",
    "\n",
    "# Add labels and title\n",
    "plt.xlabel('Country')\n",
    "plt.ylabel('Total Revenue')\n",
    "plt.title('Total Revenue by Country')\n",
    "\n",
    "# Display the bar graph\n",
    "plt.show()"
   ]
  },
  {
   "cell_type": "code",
   "execution_count": 32,
   "id": "5a5cd5e2",
   "metadata": {},
   "outputs": [
    {
     "data": {
      "text/plain": [
       "5837"
      ]
     },
     "execution_count": 32,
     "metadata": {},
     "output_type": "execute_result"
    }
   ],
   "source": [
    "unique_values_id = df[\"id\"].unique()\n",
    "len(unique_values_id)"
   ]
  },
  {
   "cell_type": "code",
   "execution_count": 33,
   "id": "b0f7c14e",
   "metadata": {},
   "outputs": [
    {
     "data": {
      "text/plain": [
       "Index(['type', 'product', 'country', 'revenue', 'id'], dtype='object')"
      ]
     },
     "execution_count": 33,
     "metadata": {},
     "output_type": "execute_result"
    }
   ],
   "source": [
    "df_filtered.columns"
   ]
  },
  {
   "cell_type": "code",
   "execution_count": 34,
   "id": "de4de2ee",
   "metadata": {},
   "outputs": [],
   "source": [
    "mode_value = df['country'].mode()"
   ]
  },
  {
   "cell_type": "code",
   "execution_count": 35,
   "id": "2ba44b47",
   "metadata": {},
   "outputs": [
    {
     "data": {
      "text/plain": [
       "0    ZH\n",
       "dtype: object"
      ]
     },
     "execution_count": 35,
     "metadata": {},
     "output_type": "execute_result"
    }
   ],
   "source": [
    "mode_value "
   ]
  },
  {
   "cell_type": "code",
   "execution_count": 36,
   "id": "25091374",
   "metadata": {},
   "outputs": [],
   "source": [
    "mode_value = df['id'].mode()"
   ]
  },
  {
   "cell_type": "code",
   "execution_count": 37,
   "id": "6730d89e",
   "metadata": {},
   "outputs": [
    {
     "data": {
      "text/plain": [
       "0    Irish Mackerel S.A. de C.V. Marine biology\n",
       "dtype: object"
      ]
     },
     "execution_count": 37,
     "metadata": {},
     "output_type": "execute_result"
    }
   ],
   "source": [
    "mode_value"
   ]
  },
  {
   "cell_type": "code",
   "execution_count": null,
   "id": "a4215cd9",
   "metadata": {},
   "outputs": [],
   "source": []
  },
  {
   "cell_type": "code",
   "execution_count": 38,
   "id": "0755a7ed",
   "metadata": {},
   "outputs": [],
   "source": [
    "#correlation"
   ]
  },
  {
   "cell_type": "code",
   "execution_count": 40,
   "id": "29fbaee3",
   "metadata": {},
   "outputs": [
    {
     "name": "stdout",
     "output_type": "stream",
     "text": [
      "{'ZH': 1, 'Nalakond': 2, 'Marebak': 3, 'Oceanus': 4, 'Arreciviento': 5, 'Gavanovia': 6, 'Zawalinda': 7, 'Puerto Sol': 8, 'Alverossia': 9, 'Quornova': 10, 'Riodelsol': 11, 'Vesperanda': 12, 'Thessalandia': 13, 'Luminkind': 14, 'Utoparadia': 15, 'Rio Isla': 16, 'Utoporiana': 17, 'Isliandor': 18, 'Lumindoria': 19, 'Mawazam': 20, 'Coralmarica': 21, 'Brindisola': 22, 'Sol y Oceana': 23, 'Kondanovia': 24, 'Helixia': 25, 'Merigrad': 26, 'Talandria': 27, 'Andenovia': 28, 'Brindivaria': 29, 'Galduzim': 30, 'Baziuzim': 31, 'Marifada': 32, 'Yggdrasonia': 33, 'Jiraputra': 34, 'Icarnia': 35, 'Korvelonia': 36, 'Solovarossa': 37, 'Coral Solis': 38, 'Coralada': 39, 'Osterivaria': 40, 'Puerto del Mar': 41, 'Playa Solis': 42, 'Mawandia': 43, 'Uziland': 44, 'Azurionix': 45, 'Nalaloria': 46, 'Lumakari': 47, 'Oceanterra': 48, 'Portovia': 49, 'Kondarivakia': 50, 'Ariuzima': 51, 'Arvaros': 52, 'Mango del Oro': 53, 'Faraluna': 54, 'Novarcticaa': 55, 'Vientoro': 56, 'Wysterion': 57, 'Morolaria': 58, 'Novarctica': 59, 'Rivenisla': 60, 'Rosvandor': 61, 'Rio Solovia': 62}\n",
      "                  type                                            product  \\\n",
      "0              Company                                      [Automobiles]   \n",
      "1              Company          [Passenger cars, trucks, vans, and buses]   \n",
      "2              Company  [Holding firm whose subsidiaries are engaged i...   \n",
      "3              Company  [Car service, car parts and accessories, autom...   \n",
      "4              Company  [Fully electric vehicles (EVs) and electric ve...   \n",
      "...                ...                                                ...   \n",
      "8658  Beneficial Owner                                          [Fishery]   \n",
      "8659           Company                            [Frozen Food Transport]   \n",
      "8660           Company                         [Deep sea fishing Charter]   \n",
      "8661  Beneficial Owner  [Crustacean preparations; shrimps and prawns, ...   \n",
      "8662           Company                                           [Caviar]   \n",
      "\n",
      "         country       revenue                                    id  \n",
      "0             ZH  3.106123e+08                             Jones LLC  \n",
      "1             ZH  1.627347e+08               Coleman, Hall and Lopez  \n",
      "2        Oceanus  1.150047e+08  Aqua Advancements Sashimi SE Express  \n",
      "3     Utoporiana  9.098641e+07             Makumba Ltd. Liability Co  \n",
      "4             ZH  8.146667e+07            Taylor, Taylor and Farrell  \n",
      "...          ...           ...                                   ...  \n",
      "8658          ZH  5.537619e+07                     Callahan-Peterson  \n",
      "8659          ZH  3.628195e+07             Romero, Woodward and Page  \n",
      "8660          ZH  9.756875e+07      Gonzalez, Gonzalez and Rodriguez  \n",
      "8661          ZH  1.316807e+08                          Wise-Shields  \n",
      "8662          ZH  1.421966e+08                  Wood, Lane and James  \n",
      "\n",
      "[6107 rows x 5 columns]\n"
     ]
    },
    {
     "name": "stderr",
     "output_type": "stream",
     "text": [
      "/home/admin1/anaconda3/envs/agri/lib/python3.7/site-packages/ipykernel_launcher.py:10: SettingWithCopyWarning: \n",
      "A value is trying to be set on a copy of a slice from a DataFrame.\n",
      "Try using .loc[row_indexer,col_indexer] = value instead\n",
      "\n",
      "See the caveats in the documentation: https://pandas.pydata.org/pandas-docs/stable/user_guide/indexing.html#returning-a-view-versus-a-copy\n",
      "  # Remove the CWD from sys.path while we load stuff.\n"
     ]
    }
   ],
   "source": [
    "\n",
    "# Assuming your DataFrame is named 'df'\n",
    "unique_cities = df_filtered['country'].unique()\n",
    "city_mapping = {}\n",
    "\n",
    "for i, city in enumerate(unique_cities, 1):\n",
    "    city_mapping[city] = i\n",
    "\n",
    "    \n",
    "print(city_mapping)\n",
    "df_filtered['country'] = df_filtered['country'].map(city_mapping)\n",
    "\n",
    "print(df)\n"
   ]
  },
  {
   "cell_type": "code",
   "execution_count": 42,
   "id": "6948a590",
   "metadata": {},
   "outputs": [
    {
     "data": {
      "text/html": [
       "<div>\n",
       "<style scoped>\n",
       "    .dataframe tbody tr th:only-of-type {\n",
       "        vertical-align: middle;\n",
       "    }\n",
       "\n",
       "    .dataframe tbody tr th {\n",
       "        vertical-align: top;\n",
       "    }\n",
       "\n",
       "    .dataframe thead th {\n",
       "        text-align: right;\n",
       "    }\n",
       "</style>\n",
       "<table border=\"1\" class=\"dataframe\">\n",
       "  <thead>\n",
       "    <tr style=\"text-align: right;\">\n",
       "      <th></th>\n",
       "      <th>type</th>\n",
       "      <th>product</th>\n",
       "      <th>country</th>\n",
       "      <th>revenue</th>\n",
       "      <th>id</th>\n",
       "    </tr>\n",
       "  </thead>\n",
       "  <tbody>\n",
       "    <tr>\n",
       "      <th>1259</th>\n",
       "      <td>Company</td>\n",
       "      <td>[Commercial fishing equipment]</td>\n",
       "      <td>1</td>\n",
       "      <td>59764.8570</td>\n",
       "      <td>Morales PLC</td>\n",
       "    </tr>\n",
       "    <tr>\n",
       "      <th>1260</th>\n",
       "      <td>Company</td>\n",
       "      <td>[Prawns, squids, and octopus; Refrigerated smo...</td>\n",
       "      <td>2</td>\n",
       "      <td>59682.0101</td>\n",
       "      <td>Sea Breezes Sagl Seaside</td>\n",
       "    </tr>\n",
       "    <tr>\n",
       "      <th>1261</th>\n",
       "      <td>Company</td>\n",
       "      <td>[Luxury vinyl flooring, premium laminate and a...</td>\n",
       "      <td>1</td>\n",
       "      <td>59666.6728</td>\n",
       "      <td>Walker-Richardson</td>\n",
       "    </tr>\n",
       "    <tr>\n",
       "      <th>1262</th>\n",
       "      <td>Company</td>\n",
       "      <td>[Clothing and footwear products]</td>\n",
       "      <td>1</td>\n",
       "      <td>59666.6728</td>\n",
       "      <td>Payne, Freeman and Kim</td>\n",
       "    </tr>\n",
       "    <tr>\n",
       "      <th>1263</th>\n",
       "      <td>Company</td>\n",
       "      <td>[Consumer adhesives and craftsman adhesives]</td>\n",
       "      <td>1</td>\n",
       "      <td>59639.9498</td>\n",
       "      <td>Mcmillan, Brock and Carroll</td>\n",
       "    </tr>\n",
       "  </tbody>\n",
       "</table>\n",
       "</div>"
      ],
      "text/plain": [
       "         type                                            product  country  \\\n",
       "1259  Company                     [Commercial fishing equipment]        1   \n",
       "1260  Company  [Prawns, squids, and octopus; Refrigerated smo...        2   \n",
       "1261  Company  [Luxury vinyl flooring, premium laminate and a...        1   \n",
       "1262  Company                   [Clothing and footwear products]        1   \n",
       "1263  Company       [Consumer adhesives and craftsman adhesives]        1   \n",
       "\n",
       "         revenue                           id  \n",
       "1259  59764.8570                  Morales PLC  \n",
       "1260  59682.0101     Sea Breezes Sagl Seaside  \n",
       "1261  59666.6728            Walker-Richardson  \n",
       "1262  59666.6728       Payne, Freeman and Kim  \n",
       "1263  59639.9498  Mcmillan, Brock and Carroll  "
      ]
     },
     "execution_count": 42,
     "metadata": {},
     "output_type": "execute_result"
    }
   ],
   "source": [
    "df_filtered.head()"
   ]
  },
  {
   "cell_type": "code",
   "execution_count": 43,
   "id": "580752a1",
   "metadata": {},
   "outputs": [
    {
     "data": {
      "image/png": "[encoded data removed]",
      "text/plain": [
       "<Figure size 720x576 with 2 Axes>"
      ]
     },
     "metadata": {
      "needs_background": "light"
     },
     "output_type": "display_data"
    }
   ],
   "source": [
    "# Assuming your DataFrame is named 'df'\n",
    "correlation_matrix = df_filtered.corr()\n",
    "\n",
    "plt.figure(figsize=(10, 8))\n",
    "sns.heatmap(correlation_matrix, annot=True, cmap=\"coolwarm\")\n",
    "plt.title(\"Correlation Heatmap\")\n",
    "plt.show()"
   ]
  },
  {
   "cell_type": "code",
   "execution_count": 67,
   "id": "76ed0087",
   "metadata": {},
   "outputs": [],
   "source": [
    "#correlation matrics"
   ]
  },
  {
   "cell_type": "code",
   "execution_count": 68,
   "id": "fa800e76",
   "metadata": {},
   "outputs": [
    {
     "data": {
      "text/html": [
       "<div>\n",
       "<style scoped>\n",
       "    .dataframe tbody tr th:only-of-type {\n",
       "        vertical-align: middle;\n",
       "    }\n",
       "\n",
       "    .dataframe tbody tr th {\n",
       "        vertical-align: top;\n",
       "    }\n",
       "\n",
       "    .dataframe thead th {\n",
       "        text-align: right;\n",
       "    }\n",
       "</style>\n",
       "<table border=\"1\" class=\"dataframe\">\n",
       "  <thead>\n",
       "    <tr style=\"text-align: right;\">\n",
       "      <th></th>\n",
       "      <th>country</th>\n",
       "      <th>revenue</th>\n",
       "    </tr>\n",
       "  </thead>\n",
       "  <tbody>\n",
       "    <tr>\n",
       "      <th>country</th>\n",
       "      <td>1.000000</td>\n",
       "      <td>0.012566</td>\n",
       "    </tr>\n",
       "    <tr>\n",
       "      <th>revenue</th>\n",
       "      <td>0.012566</td>\n",
       "      <td>1.000000</td>\n",
       "    </tr>\n",
       "  </tbody>\n",
       "</table>\n",
       "</div>"
      ],
      "text/plain": [
       "          country   revenue\n",
       "country  1.000000  0.012566\n",
       "revenue  0.012566  1.000000"
      ]
     },
     "execution_count": 68,
     "metadata": {},
     "output_type": "execute_result"
    }
   ],
   "source": [
    "correlation_matrix"
   ]
  },
  {
   "cell_type": "code",
   "execution_count": 44,
   "id": "f3d63ffb",
   "metadata": {},
   "outputs": [],
   "source": [
    "#relational plot"
   ]
  },
  {
   "cell_type": "code",
   "execution_count": 78,
   "id": "9ec931ad",
   "metadata": {},
   "outputs": [
    {
     "data": {
      "image/png": "[encoded data removed]",
      "text/plain": [
       "<Figure size 360x360 with 1 Axes>"
      ]
     },
     "metadata": {
      "needs_background": "light"
     },
     "output_type": "display_data"
    }
   ],
   "source": [
    "# Assuming your DataFrame is named 'df'\n",
    "sns.relplot(data=df_filtered, x=\"country\", y=\"revenue\", kind=\"scatter\")\n",
    "plt.title(\"Relationship between Country and Revenue\")\n",
    "plt.show()"
   ]
  },
  {
   "cell_type": "code",
   "execution_count": 80,
   "id": "ced35670",
   "metadata": {},
   "outputs": [
    {
     "data": {
      "text/plain": [
       "<Figure size 1296x648 with 0 Axes>"
      ]
     },
     "metadata": {},
     "output_type": "display_data"
    },
    {
     "data": {
      "image/png": "[encoded data removed]",
      "text/plain": [
       "<Figure size 360x360 with 1 Axes>"
      ]
     },
     "metadata": {
      "needs_background": "light"
     },
     "output_type": "display_data"
    }
   ],
   "source": [
    "import seaborn as sns\n",
    "import matplotlib.pyplot as plt\n",
    "\n",
    "# Assuming your DataFrame is named 'df'\n",
    "plt.figure(figsize=(18, 9))  # Set the figure size (width, height) in inches\n",
    "\n",
    "sns.relplot(data=df_filtered, x=\"country\", y=\"revenue\", kind=\"line\")\n",
    "plt.title(\"Relationship between Country and Revenue\")\n",
    "plt.xticks(rotation=90, ha='right')\n",
    "\n",
    "# Adjust the figure margins if necessary\n",
    "#plt.subplots_adjust(bottom=0.2, left=0.1, right=0.9, top=0.9)\n",
    "\n",
    "plt.show()\n"
   ]
  },
  {
   "cell_type": "code",
   "execution_count": 81,
   "id": "46ffaa9b",
   "metadata": {},
   "outputs": [
    {
     "data": {
      "text/html": [
       "<div>\n",
       "<style scoped>\n",
       "    .dataframe tbody tr th:only-of-type {\n",
       "        vertical-align: middle;\n",
       "    }\n",
       "\n",
       "    .dataframe tbody tr th {\n",
       "        vertical-align: top;\n",
       "    }\n",
       "\n",
       "    .dataframe thead th {\n",
       "        text-align: right;\n",
       "    }\n",
       "</style>\n",
       "<table border=\"1\" class=\"dataframe\">\n",
       "  <thead>\n",
       "    <tr style=\"text-align: right;\">\n",
       "      <th></th>\n",
       "      <th>type</th>\n",
       "      <th>product</th>\n",
       "      <th>country</th>\n",
       "      <th>revenue</th>\n",
       "      <th>id</th>\n",
       "    </tr>\n",
       "  </thead>\n",
       "  <tbody>\n",
       "    <tr>\n",
       "      <th>1259</th>\n",
       "      <td>Company</td>\n",
       "      <td>[Commercial fishing equipment]</td>\n",
       "      <td>1</td>\n",
       "      <td>59764.8570</td>\n",
       "      <td>Morales PLC</td>\n",
       "    </tr>\n",
       "    <tr>\n",
       "      <th>1260</th>\n",
       "      <td>Company</td>\n",
       "      <td>[Prawns, squids, and octopus; Refrigerated smo...</td>\n",
       "      <td>2</td>\n",
       "      <td>59682.0101</td>\n",
       "      <td>Sea Breezes Sagl Seaside</td>\n",
       "    </tr>\n",
       "    <tr>\n",
       "      <th>1261</th>\n",
       "      <td>Company</td>\n",
       "      <td>[Luxury vinyl flooring, premium laminate and a...</td>\n",
       "      <td>1</td>\n",
       "      <td>59666.6728</td>\n",
       "      <td>Walker-Richardson</td>\n",
       "    </tr>\n",
       "    <tr>\n",
       "      <th>1262</th>\n",
       "      <td>Company</td>\n",
       "      <td>[Clothing and footwear products]</td>\n",
       "      <td>1</td>\n",
       "      <td>59666.6728</td>\n",
       "      <td>Payne, Freeman and Kim</td>\n",
       "    </tr>\n",
       "    <tr>\n",
       "      <th>1263</th>\n",
       "      <td>Company</td>\n",
       "      <td>[Consumer adhesives and craftsman adhesives]</td>\n",
       "      <td>1</td>\n",
       "      <td>59639.9498</td>\n",
       "      <td>Mcmillan, Brock and Carroll</td>\n",
       "    </tr>\n",
       "  </tbody>\n",
       "</table>\n",
       "</div>"
      ],
      "text/plain": [
       "         type                                            product  country  \\\n",
       "1259  Company                     [Commercial fishing equipment]        1   \n",
       "1260  Company  [Prawns, squids, and octopus; Refrigerated smo...        2   \n",
       "1261  Company  [Luxury vinyl flooring, premium laminate and a...        1   \n",
       "1262  Company                   [Clothing and footwear products]        1   \n",
       "1263  Company       [Consumer adhesives and craftsman adhesives]        1   \n",
       "\n",
       "         revenue                           id  \n",
       "1259  59764.8570                  Morales PLC  \n",
       "1260  59682.0101     Sea Breezes Sagl Seaside  \n",
       "1261  59666.6728            Walker-Richardson  \n",
       "1262  59666.6728       Payne, Freeman and Kim  \n",
       "1263  59639.9498  Mcmillan, Brock and Carroll  "
      ]
     },
     "execution_count": 81,
     "metadata": {},
     "output_type": "execute_result"
    }
   ],
   "source": [
    "df_filtered.head()"
   ]
  },
  {
   "cell_type": "code",
   "execution_count": 82,
   "id": "eeca7b65",
   "metadata": {},
   "outputs": [],
   "source": [
    "#create a new column called number o fproducts "
   ]
  },
  {
   "cell_type": "code",
   "execution_count": 83,
   "id": "1ef1e270",
   "metadata": {},
   "outputs": [
    {
     "name": "stderr",
     "output_type": "stream",
     "text": [
      "/home/admin1/anaconda3/envs/agri/lib/python3.7/site-packages/ipykernel_launcher.py:4: SettingWithCopyWarning:\n",
      "\n",
      "\n",
      "A value is trying to be set on a copy of a slice from a DataFrame.\n",
      "Try using .loc[row_indexer,col_indexer] = value instead\n",
      "\n",
      "See the caveats in the documentation: https://pandas.pydata.org/pandas-docs/stable/user_guide/indexing.html#returning-a-view-versus-a-copy\n",
      "\n"
     ]
    }
   ],
   "source": [
    "import pandas as pd\n",
    "\n",
    "# Assuming your DataFrame is named 'df' and the column is named 'product'\n",
    "df_filtered['number_products'] = df_filtered['product'].apply(lambda x: len(str(x).split(',')))\n",
    "\n"
   ]
  },
  {
   "cell_type": "code",
   "execution_count": 85,
   "id": "417ee8fb",
   "metadata": {},
   "outputs": [
    {
     "data": {
      "text/plain": [
       "1259     1\n",
       "1260    22\n",
       "1261     2\n",
       "1262     1\n",
       "1263     1\n",
       "        ..\n",
       "6046     1\n",
       "6047     1\n",
       "6048     1\n",
       "6049     1\n",
       "6050     1\n",
       "Name: number_products, Length: 4792, dtype: int64"
      ]
     },
     "execution_count": 85,
     "metadata": {},
     "output_type": "execute_result"
    }
   ],
   "source": [
    "df_filtered['number_products'] "
   ]
  },
  {
   "cell_type": "code",
   "execution_count": 86,
   "id": "7f8b77d3",
   "metadata": {},
   "outputs": [
    {
     "data": {
      "text/html": [
       "<div>\n",
       "<style scoped>\n",
       "    .dataframe tbody tr th:only-of-type {\n",
       "        vertical-align: middle;\n",
       "    }\n",
       "\n",
       "    .dataframe tbody tr th {\n",
       "        vertical-align: top;\n",
       "    }\n",
       "\n",
       "    .dataframe thead th {\n",
       "        text-align: right;\n",
       "    }\n",
       "</style>\n",
       "<table border=\"1\" class=\"dataframe\">\n",
       "  <thead>\n",
       "    <tr style=\"text-align: right;\">\n",
       "      <th></th>\n",
       "      <th>type</th>\n",
       "      <th>product</th>\n",
       "      <th>country</th>\n",
       "      <th>revenue</th>\n",
       "      <th>id</th>\n",
       "      <th>number_products</th>\n",
       "    </tr>\n",
       "  </thead>\n",
       "  <tbody>\n",
       "    <tr>\n",
       "      <th>1259</th>\n",
       "      <td>Company</td>\n",
       "      <td>[Commercial fishing equipment]</td>\n",
       "      <td>1</td>\n",
       "      <td>59764.8570</td>\n",
       "      <td>Morales PLC</td>\n",
       "      <td>1</td>\n",
       "    </tr>\n",
       "    <tr>\n",
       "      <th>1260</th>\n",
       "      <td>Company</td>\n",
       "      <td>[Prawns, squids, and octopus; Refrigerated smo...</td>\n",
       "      <td>2</td>\n",
       "      <td>59682.0101</td>\n",
       "      <td>Sea Breezes Sagl Seaside</td>\n",
       "      <td>22</td>\n",
       "    </tr>\n",
       "    <tr>\n",
       "      <th>1261</th>\n",
       "      <td>Company</td>\n",
       "      <td>[Luxury vinyl flooring, premium laminate and a...</td>\n",
       "      <td>1</td>\n",
       "      <td>59666.6728</td>\n",
       "      <td>Walker-Richardson</td>\n",
       "      <td>2</td>\n",
       "    </tr>\n",
       "    <tr>\n",
       "      <th>1262</th>\n",
       "      <td>Company</td>\n",
       "      <td>[Clothing and footwear products]</td>\n",
       "      <td>1</td>\n",
       "      <td>59666.6728</td>\n",
       "      <td>Payne, Freeman and Kim</td>\n",
       "      <td>1</td>\n",
       "    </tr>\n",
       "    <tr>\n",
       "      <th>1263</th>\n",
       "      <td>Company</td>\n",
       "      <td>[Consumer adhesives and craftsman adhesives]</td>\n",
       "      <td>1</td>\n",
       "      <td>59639.9498</td>\n",
       "      <td>Mcmillan, Brock and Carroll</td>\n",
       "      <td>1</td>\n",
       "    </tr>\n",
       "  </tbody>\n",
       "</table>\n",
       "</div>"
      ],
      "text/plain": [
       "         type                                            product  country  \\\n",
       "1259  Company                     [Commercial fishing equipment]        1   \n",
       "1260  Company  [Prawns, squids, and octopus; Refrigerated smo...        2   \n",
       "1261  Company  [Luxury vinyl flooring, premium laminate and a...        1   \n",
       "1262  Company                   [Clothing and footwear products]        1   \n",
       "1263  Company       [Consumer adhesives and craftsman adhesives]        1   \n",
       "\n",
       "         revenue                           id  number_products  \n",
       "1259  59764.8570                  Morales PLC                1  \n",
       "1260  59682.0101     Sea Breezes Sagl Seaside               22  \n",
       "1261  59666.6728            Walker-Richardson                2  \n",
       "1262  59666.6728       Payne, Freeman and Kim                1  \n",
       "1263  59639.9498  Mcmillan, Brock and Carroll                1  "
      ]
     },
     "execution_count": 86,
     "metadata": {},
     "output_type": "execute_result"
    }
   ],
   "source": [
    "df_filtered.head()"
   ]
  },
  {
   "cell_type": "code",
   "execution_count": 87,
   "id": "b50d08c5",
   "metadata": {},
   "outputs": [
    {
     "data": {
      "image/png": "[encoded data removed]",
      "text/plain": [
       "<Figure size 720x576 with 2 Axes>"
      ]
     },
     "metadata": {
      "needs_background": "light"
     },
     "output_type": "display_data"
    }
   ],
   "source": [
    "# Assuming your DataFrame is named 'df'\n",
    "correlation_matrix = df_filtered.corr()\n",
    "\n",
    "plt.figure(figsize=(10, 8))\n",
    "sns.heatmap(correlation_matrix, annot=True, cmap=\"coolwarm\")\n",
    "plt.title(\"Correlation Heatmap\")\n",
    "plt.show()"
   ]
  },
  {
   "cell_type": "code",
   "execution_count": 88,
   "id": "81921c54",
   "metadata": {},
   "outputs": [
    {
     "data": {
      "text/html": [
       "<div>\n",
       "<style scoped>\n",
       "    .dataframe tbody tr th:only-of-type {\n",
       "        vertical-align: middle;\n",
       "    }\n",
       "\n",
       "    .dataframe tbody tr th {\n",
       "        vertical-align: top;\n",
       "    }\n",
       "\n",
       "    .dataframe thead th {\n",
       "        text-align: right;\n",
       "    }\n",
       "</style>\n",
       "<table border=\"1\" class=\"dataframe\">\n",
       "  <thead>\n",
       "    <tr style=\"text-align: right;\">\n",
       "      <th></th>\n",
       "      <th>country</th>\n",
       "      <th>revenue</th>\n",
       "      <th>number_products</th>\n",
       "    </tr>\n",
       "  </thead>\n",
       "  <tbody>\n",
       "    <tr>\n",
       "      <th>country</th>\n",
       "      <td>1.000000</td>\n",
       "      <td>0.012566</td>\n",
       "      <td>-0.002264</td>\n",
       "    </tr>\n",
       "    <tr>\n",
       "      <th>revenue</th>\n",
       "      <td>0.012566</td>\n",
       "      <td>1.000000</td>\n",
       "      <td>0.173940</td>\n",
       "    </tr>\n",
       "    <tr>\n",
       "      <th>number_products</th>\n",
       "      <td>-0.002264</td>\n",
       "      <td>0.173940</td>\n",
       "      <td>1.000000</td>\n",
       "    </tr>\n",
       "  </tbody>\n",
       "</table>\n",
       "</div>"
      ],
      "text/plain": [
       "                  country   revenue  number_products\n",
       "country          1.000000  0.012566        -0.002264\n",
       "revenue          0.012566  1.000000         0.173940\n",
       "number_products -0.002264  0.173940         1.000000"
      ]
     },
     "execution_count": 88,
     "metadata": {},
     "output_type": "execute_result"
    }
   ],
   "source": [
    "correlation_matrix"
   ]
  },
  {
   "cell_type": "code",
   "execution_count": 89,
   "id": "38ca1dfb",
   "metadata": {},
   "outputs": [],
   "source": [
    "mean_product_number = df_filtered['number_products'].mean()"
   ]
  },
  {
   "cell_type": "code",
   "execution_count": 91,
   "id": "a4e4a8cb",
   "metadata": {},
   "outputs": [
    {
     "data": {
      "text/plain": [
       "2.301126878130217"
      ]
     },
     "execution_count": 91,
     "metadata": {},
     "output_type": "execute_result"
    }
   ],
   "source": [
    "mean_product_number   #average number of product people bought"
   ]
  },
  {
   "cell_type": "code",
   "execution_count": 92,
   "id": "07b97abd",
   "metadata": {},
   "outputs": [
    {
     "data": {
      "text/html": [
       "<div>\n",
       "<style scoped>\n",
       "    .dataframe tbody tr th:only-of-type {\n",
       "        vertical-align: middle;\n",
       "    }\n",
       "\n",
       "    .dataframe tbody tr th {\n",
       "        vertical-align: top;\n",
       "    }\n",
       "\n",
       "    .dataframe thead th {\n",
       "        text-align: right;\n",
       "    }\n",
       "</style>\n",
       "<table border=\"1\" class=\"dataframe\">\n",
       "  <thead>\n",
       "    <tr style=\"text-align: right;\">\n",
       "      <th></th>\n",
       "      <th>country</th>\n",
       "      <th>revenue</th>\n",
       "      <th>number_products</th>\n",
       "    </tr>\n",
       "  </thead>\n",
       "  <tbody>\n",
       "    <tr>\n",
       "      <th>count</th>\n",
       "      <td>4792.000000</td>\n",
       "      <td>4792.000000</td>\n",
       "      <td>4792.000000</td>\n",
       "    </tr>\n",
       "    <tr>\n",
       "      <th>mean</th>\n",
       "      <td>5.621870</td>\n",
       "      <td>16661.397626</td>\n",
       "      <td>2.301127</td>\n",
       "    </tr>\n",
       "    <tr>\n",
       "      <th>std</th>\n",
       "      <td>8.313454</td>\n",
       "      <td>13251.029813</td>\n",
       "      <td>3.873777</td>\n",
       "    </tr>\n",
       "    <tr>\n",
       "      <th>min</th>\n",
       "      <td>1.000000</td>\n",
       "      <td>3652.226600</td>\n",
       "      <td>1.000000</td>\n",
       "    </tr>\n",
       "    <tr>\n",
       "      <th>25%</th>\n",
       "      <td>1.000000</td>\n",
       "      <td>6560.318700</td>\n",
       "      <td>1.000000</td>\n",
       "    </tr>\n",
       "    <tr>\n",
       "      <th>50%</th>\n",
       "      <td>4.000000</td>\n",
       "      <td>11755.947800</td>\n",
       "      <td>1.000000</td>\n",
       "    </tr>\n",
       "    <tr>\n",
       "      <th>75%</th>\n",
       "      <td>4.000000</td>\n",
       "      <td>22000.744700</td>\n",
       "      <td>1.000000</td>\n",
       "    </tr>\n",
       "    <tr>\n",
       "      <th>max</th>\n",
       "      <td>62.000000</td>\n",
       "      <td>59764.857000</td>\n",
       "      <td>65.000000</td>\n",
       "    </tr>\n",
       "  </tbody>\n",
       "</table>\n",
       "</div>"
      ],
      "text/plain": [
       "           country       revenue  number_products\n",
       "count  4792.000000   4792.000000      4792.000000\n",
       "mean      5.621870  16661.397626         2.301127\n",
       "std       8.313454  13251.029813         3.873777\n",
       "min       1.000000   3652.226600         1.000000\n",
       "25%       1.000000   6560.318700         1.000000\n",
       "50%       4.000000  11755.947800         1.000000\n",
       "75%       4.000000  22000.744700         1.000000\n",
       "max      62.000000  59764.857000        65.000000"
      ]
     },
     "execution_count": 92,
     "metadata": {},
     "output_type": "execute_result"
    }
   ],
   "source": [
    "df_filtered.describe()"
   ]
  },
  {
   "cell_type": "code",
   "execution_count": 93,
   "id": "fdba2afe",
   "metadata": {},
   "outputs": [
    {
     "data": {
      "image/png": "[encoded data removed]",
      "text/plain": [
       "<Figure size 360x360 with 1 Axes>"
      ]
     },
     "metadata": {
      "needs_background": "light"
     },
     "output_type": "display_data"
    }
   ],
   "source": [
    "# Assuming your DataFrame is named 'df'\n",
    "sns.relplot(data=df_filtered, x=\"number_products\", y=\"revenue\", kind=\"scatter\")\n",
    "plt.title(\"Relationship between number_products  and Revenue\")\n",
    "plt.show()"
   ]
  },
  {
   "cell_type": "code",
   "execution_count": 94,
   "id": "851b75eb",
   "metadata": {},
   "outputs": [
    {
     "data": {
      "image/png": "[encoded data removed]",
      "text/plain": [
       "<Figure size 360x360 with 1 Axes>"
      ]
     },
     "metadata": {
      "needs_background": "light"
     },
     "output_type": "display_data"
    }
   ],
   "source": [
    "# Assuming your DataFrame is named 'df'\n",
    "sns.relplot(data=df_filtered, x=\"number_products\", y=\"revenue\", kind=\"line\")\n",
    "plt.title(\"Relationship between number_products  and Revenue\")\n",
    "plt.show()"
   ]
  },
  {
   "cell_type": "code",
   "execution_count": 96,
   "id": "3424fde1",
   "metadata": {},
   "outputs": [
    {
     "data": {
      "image/png": "[encoded data removed]",
      "text/plain": [
       "<Figure size 360x360 with 1 Axes>"
      ]
     },
     "metadata": {
      "needs_background": "light"
     },
     "output_type": "display_data"
    }
   ],
   "source": [
    "# Assuming your DataFrame is named 'df'\n",
    "sns.relplot(data=df_filtered, y=\"number_products\", x=\"country\", kind=\"line\")\n",
    "plt.title(\"Relationship between number_products  and country\")\n",
    "plt.show()"
   ]
  }
 ],
 "metadata": {
  "kernelspec": {
   "display_name": "Python 3",
   "language": "python",
   "name": "python3"
  },
  "language_info": {
   "codemirror_mode": {
    "name": "ipython",
    "version": 3
   },
   "file_extension": ".py",
   "mimetype": "text/x-python",
   "name": "python",
   "nbconvert_exporter": "python",
   "pygments_lexer": "ipython3",
   "version": "3.7.11"
  }
 },
 "nbformat": 4,
 "nbformat_minor": 5
}
