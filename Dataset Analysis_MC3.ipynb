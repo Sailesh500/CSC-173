{
 "cells": [
  {
   "cell_type": "code",
   "execution_count": 27,
   "id": "7a9625ac",
   "metadata": {},
   "outputs": [
    {
     "name": "stderr",
     "output_type": "stream",
     "text": [
      "IOPub data rate exceeded.\n",
      "The notebook server will temporarily stop sending output\n",
      "to the client in order to avoid crashing it.\n",
      "To change this limit, set the config variable\n",
      "`--NotebookApp.iopub_data_rate_limit`.\n",
      "\n",
      "Current values:\n",
      "NotebookApp.iopub_data_rate_limit=1000000.0 (bytes/sec)\n",
      "NotebookApp.rate_limit_window=3.0 (secs)\n",
      "\n"
     ]
    }
   ],
   "source": [
    "import json\n",
    "\n",
    "# Load the JSON data from the file\n",
    "with open('MC3.json', encoding='utf-8') as file:\n",
    "    data = json.load(file)\n",
    "\n",
    "# Initialize empty lists for keys and values\n",
    "keys = []\n",
    "values = []\n",
    "\n",
    "# Iterate over each dictionary in the 'nodes' list\n",
    "for dictionary in data['nodes']:\n",
    "    # Extract the keys and values from the dictionary\n",
    "    for key, value in dictionary.items():\n",
    "        keys.append(key)\n",
    "        values.append(value)\n",
    "\n",
    "# Print the lists of keys and values\n",
    "print(\"Keys:\", keys)\n",
    "print(\"Values:\", values)\n"
   ]
  },
  {
   "cell_type": "code",
   "execution_count": 28,
   "id": "52713c7c",
   "metadata": {},
   "outputs": [
    {
     "name": "stdout",
     "output_type": "stream",
     "text": [
      "Unique Keys: {'revenue_omu', 'country', 'id', 'type', 'product_services'}\n"
     ]
    }
   ],
   "source": [
    "# Convert the 'keys' list to a set to get unique elements\n",
    "unique_keys = set(keys)\n",
    "\n",
    "# Print the unique keys\n",
    "print(\"Unique Keys:\", unique_keys)\n"
   ]
  },
  {
   "cell_type": "code",
   "execution_count": 29,
   "id": "590d98bc",
   "metadata": {},
   "outputs": [
    {
     "name": "stdout",
     "output_type": "stream",
     "text": [
      "                   type                                            product  \\\n",
      "0               Company                                      [Automobiles]   \n",
      "1               Company          [Passenger cars, trucks, vans, and buses]   \n",
      "2               Company  [Holding firm whose subsidiaries are engaged i...   \n",
      "3               Company  [Car service, car parts and accessories, autom...   \n",
      "4               Company  [Fully electric vehicles (EVs) and electric ve...   \n",
      "...                 ...                                                ...   \n",
      "27617  Company Contacts                                                 []   \n",
      "27618  Company Contacts                                                 []   \n",
      "27619  Company Contacts                                                 []   \n",
      "27620  Company Contacts                                                 []   \n",
      "27621  Company Contacts                                                 []   \n",
      "\n",
      "          country         revenue                                    id  \n",
      "0              ZH   310612303.447                             Jones LLC  \n",
      "1              ZH  162734683.9969               Coleman, Hall and Lopez  \n",
      "2         Oceanus  115004666.6728  Aqua Advancements Sashimi SE Express  \n",
      "3      Utoporiana   90986412.5191             Makumba Ltd. Liability Co  \n",
      "4              ZH   81466666.6728            Taylor, Taylor and Farrell  \n",
      "...           ...             ...                                   ...  \n",
      "27617          ZH                            Johnson, Lee and Rodriguez  \n",
      "27618          ZH                           Bowman, Rollins and Griffin  \n",
      "27619          ZH                                          Hardin Group  \n",
      "27620          ZH                             Crane, Joyce and Jennings  \n",
      "27621          ZH                                        Smith and Sons  \n",
      "\n",
      "[27622 rows x 5 columns]\n"
     ]
    }
   ],
   "source": [
    "import pandas as pd\n",
    "import json\n",
    "\n",
    "# Load the JSON data from the file\n",
    "with open('MC3.json', encoding='utf-8') as file:\n",
    "    data = json.load(file)\n",
    "\n",
    "# Initialize an empty list to store the data rows\n",
    "rows = []\n",
    "\n",
    "# Iterate over each dictionary in the 'nodes' list\n",
    "for dictionary in data['nodes']:\n",
    "    # Extract the values for 'type', 'dataset', 'country', 'id' keys\n",
    "    type_value = dictionary.get('type', ' ')[0]\n",
    "    product_value = dictionary.get('product_services', ' ')\n",
    "  #  product_value = product_value.strip('[]').split(',')[0].strip()\n",
    "    country_value = dictionary.get('country', ' ')[0]\n",
    "    revenue_omu_value = dictionary.get('revenue_omu', ' ')[0]\n",
    "    id_value = dictionary.get('id', ' ')[0]\n",
    "\n",
    "    # Append the values as a new row to the list\n",
    "    rows.append([type_value,product_value, country_value,revenue_omu_value, id_value])\n",
    "\n",
    "# Create a DataFrame with the specified columns and filled data\n",
    "df = pd.DataFrame(rows, columns=['type', 'product', 'country','revenue', 'id'])\n",
    "\n",
    "# Print the DataFrame\n",
    "print(df)\n"
   ]
  },
  {
   "cell_type": "code",
   "execution_count": null,
   "id": "3baf2f97",
   "metadata": {},
   "outputs": [],
   "source": []
  },
  {
   "cell_type": "code",
   "execution_count": 30,
   "id": "ccebfb0f",
   "metadata": {},
   "outputs": [],
   "source": [
    "#understanding the data"
   ]
  },
  {
   "cell_type": "code",
   "execution_count": 8,
   "id": "08c44504",
   "metadata": {},
   "outputs": [
    {
     "name": "stdout",
     "output_type": "stream",
     "text": [
      "<class 'pandas.core.frame.DataFrame'>\n",
      "RangeIndex: 27622 entries, 0 to 27621\n",
      "Data columns (total 5 columns):\n",
      " #   Column   Non-Null Count  Dtype \n",
      "---  ------   --------------  ----- \n",
      " 0   type     27622 non-null  object\n",
      " 1   product  27622 non-null  object\n",
      " 2   country  27622 non-null  object\n",
      " 3   revenue  27622 non-null  object\n",
      " 4   id       27622 non-null  object\n",
      "dtypes: object(5)\n",
      "memory usage: 1.1+ MB\n"
     ]
    }
   ],
   "source": [
    "df.info()"
   ]
  },
  {
   "cell_type": "code",
   "execution_count": 9,
   "id": "98b71073",
   "metadata": {},
   "outputs": [
    {
     "data": {
      "text/html": [
       "<div>\n",
       "<style scoped>\n",
       "    .dataframe tbody tr th:only-of-type {\n",
       "        vertical-align: middle;\n",
       "    }\n",
       "\n",
       "    .dataframe tbody tr th {\n",
       "        vertical-align: top;\n",
       "    }\n",
       "\n",
       "    .dataframe thead th {\n",
       "        text-align: right;\n",
       "    }\n",
       "</style>\n",
       "<table border=\"1\" class=\"dataframe\">\n",
       "  <thead>\n",
       "    <tr style=\"text-align: right;\">\n",
       "      <th></th>\n",
       "      <th>type</th>\n",
       "      <th>product</th>\n",
       "      <th>country</th>\n",
       "      <th>revenue</th>\n",
       "      <th>id</th>\n",
       "    </tr>\n",
       "  </thead>\n",
       "  <tbody>\n",
       "    <tr>\n",
       "      <th>count</th>\n",
       "      <td>27622</td>\n",
       "      <td>27622</td>\n",
       "      <td>27622</td>\n",
       "      <td>27622</td>\n",
       "      <td>27622</td>\n",
       "    </tr>\n",
       "    <tr>\n",
       "      <th>unique</th>\n",
       "      <td>3</td>\n",
       "      <td>3244</td>\n",
       "      <td>100</td>\n",
       "      <td>4639</td>\n",
       "      <td>22929</td>\n",
       "    </tr>\n",
       "    <tr>\n",
       "      <th>top</th>\n",
       "      <td>Beneficial Owner</td>\n",
       "      <td>[]</td>\n",
       "      <td>ZH</td>\n",
       "      <td></td>\n",
       "      <td>Smith LLC</td>\n",
       "    </tr>\n",
       "    <tr>\n",
       "      <th>freq</th>\n",
       "      <td>11949</td>\n",
       "      <td>18959</td>\n",
       "      <td>22439</td>\n",
       "      <td>18959</td>\n",
       "      <td>40</td>\n",
       "    </tr>\n",
       "  </tbody>\n",
       "</table>\n",
       "</div>"
      ],
      "text/plain": [
       "                    type product country revenue         id\n",
       "count              27622   27622   27622   27622      27622\n",
       "unique                 3    3244     100    4639      22929\n",
       "top     Beneficial Owner      []      ZH          Smith LLC\n",
       "freq               11949   18959   22439   18959         40"
      ]
     },
     "execution_count": 9,
     "metadata": {},
     "output_type": "execute_result"
    }
   ],
   "source": [
    "df.describe()"
   ]
  },
  {
   "cell_type": "code",
   "execution_count": 10,
   "id": "d9cba476",
   "metadata": {},
   "outputs": [
    {
     "data": {
      "text/plain": [
       "type       0\n",
       "product    0\n",
       "country    0\n",
       "revenue    0\n",
       "id         0\n",
       "dtype: int64"
      ]
     },
     "execution_count": 10,
     "metadata": {},
     "output_type": "execute_result"
    }
   ],
   "source": [
    "df.isnull().sum()"
   ]
  },
  {
   "cell_type": "code",
   "execution_count": 11,
   "id": "93b992d8",
   "metadata": {},
   "outputs": [],
   "source": [
    "unique_values = df[\"revenue\"].unique()\n"
   ]
  },
  {
   "cell_type": "code",
   "execution_count": 12,
   "id": "b284597c",
   "metadata": {},
   "outputs": [
    {
     "data": {
      "text/plain": [
       "array([310612303.447, 162734683.9969, 115004666.6728, ..., 131680733.227,\n",
       "       142196552.227, ' '], dtype=object)"
      ]
     },
     "execution_count": 12,
     "metadata": {},
     "output_type": "execute_result"
    }
   ],
   "source": [
    "unique_values"
   ]
  },
  {
   "cell_type": "code",
   "execution_count": 13,
   "id": "5d836e84",
   "metadata": {},
   "outputs": [
    {
     "name": "stdout",
     "output_type": "stream",
     "text": [
      "type           0\n",
      "product        0\n",
      "country        0\n",
      "revenue    18959\n",
      "id             0\n",
      "dtype: int64\n"
     ]
    }
   ],
   "source": [
    "import pandas as pd\n",
    "\n",
    "# Replace empty strings with null values in the DataFrame\n",
    "df.replace(' ', pd.NA, inplace=True)\n",
    "\n",
    "# Check for null values\n",
    "print(df.isnull().sum())"
   ]
  },
  {
   "cell_type": "code",
   "execution_count": 14,
   "id": "75337960",
   "metadata": {},
   "outputs": [
    {
     "data": {
      "text/plain": [
       "0       3.106123e+08\n",
       "1       1.627347e+08\n",
       "2       1.150047e+08\n",
       "3       9.098641e+07\n",
       "4       8.146667e+07\n",
       "            ...     \n",
       "8658    5.537619e+07\n",
       "8659    3.628195e+07\n",
       "8660    9.756875e+07\n",
       "8661    1.316807e+08\n",
       "8662    1.421966e+08\n",
       "Name: revenue, Length: 6107, dtype: float64"
      ]
     },
     "execution_count": 14,
     "metadata": {},
     "output_type": "execute_result"
    }
   ],
   "source": [
    "import pandas as pd\n",
    "\n",
    "# Convert non-numeric values to NaN\n",
    "df[\"revenue\"] = pd.to_numeric(df[\"revenue\"], errors=\"coerce\")\n",
    "\n",
    "# Calculate the mean  or average\n",
    "mean_revenue = df[\"revenue\"].mean()\n",
    "\n",
    "# Fill missing values with the mean\n",
    "#df[\"revenue\"].fillna(mean_revenue, inplace=True)\n",
    "df[\"revenue\"].dropna()"
   ]
  },
  {
   "cell_type": "code",
   "execution_count": 15,
   "id": "cf15f216",
   "metadata": {},
   "outputs": [
    {
     "data": {
      "text/plain": [
       "type           0\n",
       "product        0\n",
       "country        0\n",
       "revenue    21515\n",
       "id             0\n",
       "dtype: int64"
      ]
     },
     "execution_count": 15,
     "metadata": {},
     "output_type": "execute_result"
    }
   ],
   "source": [
    "df.isnull().sum()\n"
   ]
  },
  {
   "cell_type": "code",
   "execution_count": 16,
   "id": "3392238a",
   "metadata": {},
   "outputs": [
    {
     "name": "stdout",
     "output_type": "stream",
     "text": [
      "<class 'pandas.core.frame.DataFrame'>\n",
      "RangeIndex: 27622 entries, 0 to 27621\n",
      "Data columns (total 5 columns):\n",
      " #   Column   Non-Null Count  Dtype  \n",
      "---  ------   --------------  -----  \n",
      " 0   type     27622 non-null  object \n",
      " 1   product  27622 non-null  object \n",
      " 2   country  27622 non-null  object \n",
      " 3   revenue  6107 non-null   float64\n",
      " 4   id       27622 non-null  object \n",
      "dtypes: float64(1), object(4)\n",
      "memory usage: 1.1+ MB\n"
     ]
    }
   ],
   "source": [
    "df.info()\n"
   ]
  },
  {
   "cell_type": "code",
   "execution_count": 17,
   "id": "7190b0e0",
   "metadata": {},
   "outputs": [
    {
     "data": {
      "text/html": [
       "<div>\n",
       "<style scoped>\n",
       "    .dataframe tbody tr th:only-of-type {\n",
       "        vertical-align: middle;\n",
       "    }\n",
       "\n",
       "    .dataframe tbody tr th {\n",
       "        vertical-align: top;\n",
       "    }\n",
       "\n",
       "    .dataframe thead th {\n",
       "        text-align: right;\n",
       "    }\n",
       "</style>\n",
       "<table border=\"1\" class=\"dataframe\">\n",
       "  <thead>\n",
       "    <tr style=\"text-align: right;\">\n",
       "      <th></th>\n",
       "      <th>type</th>\n",
       "      <th>product</th>\n",
       "      <th>country</th>\n",
       "      <th>revenue</th>\n",
       "      <th>id</th>\n",
       "    </tr>\n",
       "  </thead>\n",
       "  <tbody>\n",
       "    <tr>\n",
       "      <th>0</th>\n",
       "      <td>Company</td>\n",
       "      <td>[Automobiles]</td>\n",
       "      <td>ZH</td>\n",
       "      <td>3.106123e+08</td>\n",
       "      <td>Jones LLC</td>\n",
       "    </tr>\n",
       "    <tr>\n",
       "      <th>1</th>\n",
       "      <td>Company</td>\n",
       "      <td>[Passenger cars, trucks, vans, and buses]</td>\n",
       "      <td>ZH</td>\n",
       "      <td>1.627347e+08</td>\n",
       "      <td>Coleman, Hall and Lopez</td>\n",
       "    </tr>\n",
       "    <tr>\n",
       "      <th>2</th>\n",
       "      <td>Company</td>\n",
       "      <td>[Holding firm whose subsidiaries are engaged i...</td>\n",
       "      <td>Oceanus</td>\n",
       "      <td>1.150047e+08</td>\n",
       "      <td>Aqua Advancements Sashimi SE Express</td>\n",
       "    </tr>\n",
       "    <tr>\n",
       "      <th>3</th>\n",
       "      <td>Company</td>\n",
       "      <td>[Car service, car parts and accessories, autom...</td>\n",
       "      <td>Utoporiana</td>\n",
       "      <td>9.098641e+07</td>\n",
       "      <td>Makumba Ltd. Liability Co</td>\n",
       "    </tr>\n",
       "    <tr>\n",
       "      <th>4</th>\n",
       "      <td>Company</td>\n",
       "      <td>[Fully electric vehicles (EVs) and electric ve...</td>\n",
       "      <td>ZH</td>\n",
       "      <td>8.146667e+07</td>\n",
       "      <td>Taylor, Taylor and Farrell</td>\n",
       "    </tr>\n",
       "  </tbody>\n",
       "</table>\n",
       "</div>"
      ],
      "text/plain": [
       "      type                                            product     country  \\\n",
       "0  Company                                      [Automobiles]          ZH   \n",
       "1  Company          [Passenger cars, trucks, vans, and buses]          ZH   \n",
       "2  Company  [Holding firm whose subsidiaries are engaged i...     Oceanus   \n",
       "3  Company  [Car service, car parts and accessories, autom...  Utoporiana   \n",
       "4  Company  [Fully electric vehicles (EVs) and electric ve...          ZH   \n",
       "\n",
       "        revenue                                    id  \n",
       "0  3.106123e+08                             Jones LLC  \n",
       "1  1.627347e+08               Coleman, Hall and Lopez  \n",
       "2  1.150047e+08  Aqua Advancements Sashimi SE Express  \n",
       "3  9.098641e+07             Makumba Ltd. Liability Co  \n",
       "4  8.146667e+07            Taylor, Taylor and Farrell  "
      ]
     },
     "execution_count": 17,
     "metadata": {},
     "output_type": "execute_result"
    }
   ],
   "source": [
    "df.head()"
   ]
  },
  {
   "cell_type": "code",
   "execution_count": 18,
   "id": "82e62d23",
   "metadata": {},
   "outputs": [
    {
     "data": {
      "image/png": "[encoded data removed]",
      "text/plain": [
       "<Figure size 432x288 with 1 Axes>"
      ]
     },
     "metadata": {
      "needs_background": "light"
     },
     "output_type": "display_data"
    }
   ],
   "source": [
    "import matplotlib.pyplot as plt\n",
    "\n",
    "df[\"revenue\"].plot.box()\n",
    "plt.ylabel(\"Revenue\")\n",
    "plt.title(\"Boxplot of Revenue\")\n",
    "plt.show()\n"
   ]
  },
  {
   "cell_type": "code",
   "execution_count": 19,
   "id": "de52462f",
   "metadata": {},
   "outputs": [],
   "source": [
    "Q1 = df[\"revenue\"].quantile(0.25)\n",
    "Q3 = df[\"revenue\"].quantile(0.75)\n"
   ]
  },
  {
   "cell_type": "code",
   "execution_count": 20,
   "id": "055f8308",
   "metadata": {},
   "outputs": [],
   "source": [
    "IQR = Q3 - Q1\n"
   ]
  },
  {
   "cell_type": "code",
   "execution_count": 21,
   "id": "68657828",
   "metadata": {},
   "outputs": [
    {
     "data": {
      "text/plain": [
       "(48327.661550000004, 7676.35915)"
      ]
     },
     "execution_count": 21,
     "metadata": {},
     "output_type": "execute_result"
    }
   ],
   "source": [
    "Q3,Q1"
   ]
  },
  {
   "cell_type": "code",
   "execution_count": 22,
   "id": "78090542",
   "metadata": {},
   "outputs": [],
   "source": [
    "lower_bound = Q1 - (1.5 * IQR)\n",
    "upper_bound = Q3 + (1.5 * IQR)\n",
    "\n"
   ]
  },
  {
   "cell_type": "code",
   "execution_count": 23,
   "id": "a755d26c",
   "metadata": {},
   "outputs": [],
   "source": [
    "df_filtered = df[(df[\"revenue\"] >= lower_bound) & (df[\"revenue\"] <= upper_bound)]\n"
   ]
  },
  {
   "cell_type": "code",
   "execution_count": 24,
   "id": "134edf58",
   "metadata": {},
   "outputs": [],
   "source": [
    "Q1 = df[\"revenue\"].quantile(0.25)\n",
    "Q3 = df[\"revenue\"].quantile(0.65)\n",
    "IQR = Q3 - Q1\n",
    "lower_bound = Q1 - (1.5 * IQR)\n",
    "upper_bound = Q3 + (1.5 * IQR)\n",
    "df_filtered = df[(df[\"revenue\"] >= lower_bound) & (df[\"revenue\"] <= upper_bound)]\n"
   ]
  },
  {
   "cell_type": "code",
   "execution_count": 25,
   "id": "0ce22572",
   "metadata": {},
   "outputs": [
    {
     "data": {
      "text/html": [
       "<div>\n",
       "<style scoped>\n",
       "    .dataframe tbody tr th:only-of-type {\n",
       "        vertical-align: middle;\n",
       "    }\n",
       "\n",
       "    .dataframe tbody tr th {\n",
       "        vertical-align: top;\n",
       "    }\n",
       "\n",
       "    .dataframe thead th {\n",
       "        text-align: right;\n",
       "    }\n",
       "</style>\n",
       "<table border=\"1\" class=\"dataframe\">\n",
       "  <thead>\n",
       "    <tr style=\"text-align: right;\">\n",
       "      <th></th>\n",
       "      <th>type</th>\n",
       "      <th>product</th>\n",
       "      <th>country</th>\n",
       "      <th>revenue</th>\n",
       "      <th>id</th>\n",
       "    </tr>\n",
       "  </thead>\n",
       "  <tbody>\n",
       "    <tr>\n",
       "      <th>1259</th>\n",
       "      <td>Company</td>\n",
       "      <td>[Commercial fishing equipment]</td>\n",
       "      <td>ZH</td>\n",
       "      <td>59764.8570</td>\n",
       "      <td>Morales PLC</td>\n",
       "    </tr>\n",
       "    <tr>\n",
       "      <th>1260</th>\n",
       "      <td>Company</td>\n",
       "      <td>[Prawns, squids, and octopus; Refrigerated smo...</td>\n",
       "      <td>Nalakond</td>\n",
       "      <td>59682.0101</td>\n",
       "      <td>Sea Breezes Sagl Seaside</td>\n",
       "    </tr>\n",
       "    <tr>\n",
       "      <th>1261</th>\n",
       "      <td>Company</td>\n",
       "      <td>[Luxury vinyl flooring, premium laminate and a...</td>\n",
       "      <td>ZH</td>\n",
       "      <td>59666.6728</td>\n",
       "      <td>Walker-Richardson</td>\n",
       "    </tr>\n",
       "    <tr>\n",
       "      <th>1262</th>\n",
       "      <td>Company</td>\n",
       "      <td>[Clothing and footwear products]</td>\n",
       "      <td>ZH</td>\n",
       "      <td>59666.6728</td>\n",
       "      <td>Payne, Freeman and Kim</td>\n",
       "    </tr>\n",
       "    <tr>\n",
       "      <th>1263</th>\n",
       "      <td>Company</td>\n",
       "      <td>[Consumer adhesives and craftsman adhesives]</td>\n",
       "      <td>ZH</td>\n",
       "      <td>59639.9498</td>\n",
       "      <td>Mcmillan, Brock and Carroll</td>\n",
       "    </tr>\n",
       "    <tr>\n",
       "      <th>...</th>\n",
       "      <td>...</td>\n",
       "      <td>...</td>\n",
       "      <td>...</td>\n",
       "      <td>...</td>\n",
       "      <td>...</td>\n",
       "    </tr>\n",
       "    <tr>\n",
       "      <th>6046</th>\n",
       "      <td>Company</td>\n",
       "      <td>[Management and consultancy services]</td>\n",
       "      <td>Oceanus</td>\n",
       "      <td>4666.6728</td>\n",
       "      <td>Gujarat Sea  Plc United</td>\n",
       "    </tr>\n",
       "    <tr>\n",
       "      <th>6047</th>\n",
       "      <td>Company</td>\n",
       "      <td>[Unknown]</td>\n",
       "      <td>ZH</td>\n",
       "      <td>4666.6728</td>\n",
       "      <td>Li, Hudson and Mclean</td>\n",
       "    </tr>\n",
       "    <tr>\n",
       "      <th>6048</th>\n",
       "      <td>Company</td>\n",
       "      <td>[Unknown]</td>\n",
       "      <td>ZH</td>\n",
       "      <td>4660.6650</td>\n",
       "      <td>Boyer, Tucker and Diaz</td>\n",
       "    </tr>\n",
       "    <tr>\n",
       "      <th>6049</th>\n",
       "      <td>Company</td>\n",
       "      <td>[Unknown]</td>\n",
       "      <td>Marebak</td>\n",
       "      <td>4657.7974</td>\n",
       "      <td>Bu yu wang Pic Export</td>\n",
       "    </tr>\n",
       "    <tr>\n",
       "      <th>6050</th>\n",
       "      <td>Company</td>\n",
       "      <td>[General merchandise and other related consume...</td>\n",
       "      <td>Marebak</td>\n",
       "      <td>3652.2266</td>\n",
       "      <td>Costa de Coral Pic Services</td>\n",
       "    </tr>\n",
       "  </tbody>\n",
       "</table>\n",
       "<p>4792 rows × 5 columns</p>\n",
       "</div>"
      ],
      "text/plain": [
       "         type                                            product   country  \\\n",
       "1259  Company                     [Commercial fishing equipment]        ZH   \n",
       "1260  Company  [Prawns, squids, and octopus; Refrigerated smo...  Nalakond   \n",
       "1261  Company  [Luxury vinyl flooring, premium laminate and a...        ZH   \n",
       "1262  Company                   [Clothing and footwear products]        ZH   \n",
       "1263  Company       [Consumer adhesives and craftsman adhesives]        ZH   \n",
       "...       ...                                                ...       ...   \n",
       "6046  Company              [Management and consultancy services]   Oceanus   \n",
       "6047  Company                                          [Unknown]        ZH   \n",
       "6048  Company                                          [Unknown]        ZH   \n",
       "6049  Company                                          [Unknown]   Marebak   \n",
       "6050  Company  [General merchandise and other related consume...   Marebak   \n",
       "\n",
       "         revenue                           id  \n",
       "1259  59764.8570                  Morales PLC  \n",
       "1260  59682.0101     Sea Breezes Sagl Seaside  \n",
       "1261  59666.6728            Walker-Richardson  \n",
       "1262  59666.6728       Payne, Freeman and Kim  \n",
       "1263  59639.9498  Mcmillan, Brock and Carroll  \n",
       "...          ...                          ...  \n",
       "6046   4666.6728      Gujarat Sea  Plc United  \n",
       "6047   4666.6728        Li, Hudson and Mclean  \n",
       "6048   4660.6650       Boyer, Tucker and Diaz  \n",
       "6049   4657.7974        Bu yu wang Pic Export  \n",
       "6050   3652.2266  Costa de Coral Pic Services  \n",
       "\n",
       "[4792 rows x 5 columns]"
      ]
     },
     "execution_count": 25,
     "metadata": {},
     "output_type": "execute_result"
    }
   ],
   "source": [
    "df_filtered"
   ]
  },
  {
   "cell_type": "code",
   "execution_count": 26,
   "id": "2fce1562",
   "metadata": {},
   "outputs": [
    {
     "data": {
      "image/png": "[encoded data removed]",
      "text/plain": [
       "<Figure size 432x288 with 1 Axes>"
      ]
     },
     "metadata": {
      "needs_background": "light"
     },
     "output_type": "display_data"
    }
   ],
   "source": [
    "import matplotlib.pyplot as plt\n",
    "\n",
    "df_filtered[\"revenue\"].plot.box()\n",
    "plt.ylabel(\"Revenue\")\n",
    "plt.title(\"Boxplot of Revenue\")\n",
    "plt.show()\n"
   ]
  },
  {
   "cell_type": "code",
   "execution_count": null,
   "id": "af7299ef",
   "metadata": {},
   "outputs": [],
   "source": [
    "#"
   ]
  },
  {
   "cell_type": "code",
   "execution_count": null,
   "id": "e57bf3dd",
   "metadata": {},
   "outputs": [],
   "source": []
  }
 ],
 "metadata": {
  "kernelspec": {
   "display_name": "Python 3",
   "language": "python",
   "name": "python3"
  },
  "language_info": {
   "codemirror_mode": {
    "name": "ipython",
    "version": 3
   },
   "file_extension": ".py",
   "mimetype": "text/x-python",
   "name": "python",
   "nbconvert_exporter": "python",
   "pygments_lexer": "ipython3",
   "version": "3.7.11"
  }
 },
 "nbformat": 4,
 "nbformat_minor": 5
}
